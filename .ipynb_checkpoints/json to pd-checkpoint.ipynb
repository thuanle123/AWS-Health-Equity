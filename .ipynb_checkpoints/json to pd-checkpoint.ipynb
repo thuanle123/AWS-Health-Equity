{
 "cells": [
  {
   "cell_type": "code",
   "execution_count": 14,
   "metadata": {},
   "outputs": [],
   "source": [
    "import json\n",
    "import pandas as pd\n",
    "from pandas.io.json import json_normalize"
   ]
  },
  {
   "cell_type": "code",
   "execution_count": 15,
   "metadata": {},
   "outputs": [],
   "source": [
    "with open('index_2018.json') as f:\n",
    "    d = json.load(f)"
   ]
  },
  {
   "cell_type": "code",
   "execution_count": 16,
   "metadata": {},
   "outputs": [],
   "source": [
    "categories = json_normalize(d['Filings2018'])"
   ]
  },
  {
   "cell_type": "code",
   "execution_count": 17,
   "metadata": {
    "scrolled": true
   },
   "outputs": [
    {
     "data": {
      "text/html": [
       "<div>\n",
       "<style scoped>\n",
       "    .dataframe tbody tr th:only-of-type {\n",
       "        vertical-align: middle;\n",
       "    }\n",
       "\n",
       "    .dataframe tbody tr th {\n",
       "        vertical-align: top;\n",
       "    }\n",
       "\n",
       "    .dataframe thead th {\n",
       "        text-align: right;\n",
       "    }\n",
       "</style>\n",
       "<table border=\"1\" class=\"dataframe\">\n",
       "  <thead>\n",
       "    <tr style=\"text-align: right;\">\n",
       "      <th></th>\n",
       "      <th>DLN</th>\n",
       "      <th>EIN</th>\n",
       "      <th>FormType</th>\n",
       "      <th>LastUpdated</th>\n",
       "      <th>ObjectId</th>\n",
       "      <th>OrganizationName</th>\n",
       "      <th>SubmittedOn</th>\n",
       "      <th>TaxPeriod</th>\n",
       "      <th>URL</th>\n",
       "    </tr>\n",
       "  </thead>\n",
       "  <tbody>\n",
       "    <tr>\n",
       "      <th>0</th>\n",
       "      <td>93493318071517</td>\n",
       "      <td>453578215</td>\n",
       "      <td>990</td>\n",
       "      <td>2018-01-18T23:53:03</td>\n",
       "      <td>201713189349307151</td>\n",
       "      <td>MULEY FANATIC FOUNDATION OF WYOMING INC</td>\n",
       "      <td>2018-01-10</td>\n",
       "      <td>201612</td>\n",
       "      <td>https://s3.amazonaws.com/irs-form-990/20171318...</td>\n",
       "    </tr>\n",
       "    <tr>\n",
       "      <th>1</th>\n",
       "      <td>93493318071467</td>\n",
       "      <td>383333202</td>\n",
       "      <td>990</td>\n",
       "      <td>2018-01-18T23:53:03</td>\n",
       "      <td>201713189349307146</td>\n",
       "      <td>KALAMAZOO COMMUNITY FOUNDATION</td>\n",
       "      <td>2018-01-10</td>\n",
       "      <td>201612</td>\n",
       "      <td>https://s3.amazonaws.com/irs-form-990/20171318...</td>\n",
       "    </tr>\n",
       "    <tr>\n",
       "      <th>2</th>\n",
       "      <td>93493318071317</td>\n",
       "      <td>233014323</td>\n",
       "      <td>990</td>\n",
       "      <td>2018-01-18T23:53:03</td>\n",
       "      <td>201713189349307131</td>\n",
       "      <td>GOSPEL THROUGH COLOMBIA</td>\n",
       "      <td>2018-01-10</td>\n",
       "      <td>201612</td>\n",
       "      <td>https://s3.amazonaws.com/irs-form-990/20171318...</td>\n",
       "    </tr>\n",
       "  </tbody>\n",
       "</table>\n",
       "</div>"
      ],
      "text/plain": [
       "              DLN        EIN FormType          LastUpdated  \\\n",
       "0  93493318071517  453578215      990  2018-01-18T23:53:03   \n",
       "1  93493318071467  383333202      990  2018-01-18T23:53:03   \n",
       "2  93493318071317  233014323      990  2018-01-18T23:53:03   \n",
       "\n",
       "             ObjectId                         OrganizationName SubmittedOn  \\\n",
       "0  201713189349307151  MULEY FANATIC FOUNDATION OF WYOMING INC  2018-01-10   \n",
       "1  201713189349307146           KALAMAZOO COMMUNITY FOUNDATION  2018-01-10   \n",
       "2  201713189349307131                  GOSPEL THROUGH COLOMBIA  2018-01-10   \n",
       "\n",
       "  TaxPeriod                                                URL  \n",
       "0    201612  https://s3.amazonaws.com/irs-form-990/20171318...  \n",
       "1    201612  https://s3.amazonaws.com/irs-form-990/20171318...  \n",
       "2    201612  https://s3.amazonaws.com/irs-form-990/20171318...  "
      ]
     },
     "execution_count": 17,
     "metadata": {},
     "output_type": "execute_result"
    }
   ],
   "source": [
    "categories.head(3)"
   ]
  },
  {
   "cell_type": "code",
   "execution_count": null,
   "metadata": {},
   "outputs": [],
   "source": [
    "adf"
   ]
  }
 ],
 "metadata": {
  "kernelspec": {
   "display_name": "Python 3",
   "language": "python",
   "name": "python3"
  },
  "language_info": {
   "codemirror_mode": {
    "name": "ipython",
    "version": 3
   },
   "file_extension": ".py",
   "mimetype": "text/x-python",
   "name": "python",
   "nbconvert_exporter": "python",
   "pygments_lexer": "ipython3",
   "version": "3.7.3"
  }
 },
 "nbformat": 4,
 "nbformat_minor": 2
}
