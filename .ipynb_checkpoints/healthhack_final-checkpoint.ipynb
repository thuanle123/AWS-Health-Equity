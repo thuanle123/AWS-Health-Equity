{
 "cells": [
  {
   "cell_type": "code",
   "execution_count": 17,
   "metadata": {},
   "outputs": [],
   "source": [
    "import json\n",
    "import pandas as pd\n",
    "from pandas.io.json import json_normalize\n",
    "import numpy as np\n",
    "import requests\n",
    "import io\n",
    "import re\n",
    "import bs4 as bs\n",
    "import urllib.request"
   ]
  },
  {
   "cell_type": "code",
   "execution_count": 18,
   "metadata": {},
   "outputs": [],
   "source": [
    "pd.set_option('display.max_colwidth', -1)"
   ]
  },
  {
   "cell_type": "code",
   "execution_count": 19,
   "metadata": {},
   "outputs": [],
   "source": [
    "with open('index_2018.json') as f:\n",
    "    d = json.load(f)"
   ]
  },
  {
   "cell_type": "code",
   "execution_count": 20,
   "metadata": {},
   "outputs": [],
   "source": [
    "filling_2018 = json_normalize(d['Filings2018'])"
   ]
  },
  {
   "cell_type": "code",
   "execution_count": 21,
   "metadata": {},
   "outputs": [],
   "source": [
    "filling_2018['EIN'] = filling_2018['EIN'].astype(np.int64)"
   ]
  },
  {
   "cell_type": "code",
   "execution_count": 22,
   "metadata": {},
   "outputs": [],
   "source": [
    "filling_2018['DateTime'] = pd.to_datetime(filling_2018['SubmittedOn'])"
   ]
  },
  {
   "cell_type": "code",
   "execution_count": 23,
   "metadata": {},
   "outputs": [
    {
     "data": {
      "text/plain": [
       "array(['990', '990PF', '990EZ'], dtype=object)"
      ]
     },
     "execution_count": 23,
     "metadata": {},
     "output_type": "execute_result"
    }
   ],
   "source": [
    "filling_2018.FormType.unique()"
   ]
  },
  {
   "cell_type": "code",
   "execution_count": 24,
   "metadata": {},
   "outputs": [],
   "source": [
    "#filling_2018_dup.loc[filling_2018_dup.groupby('EIN').DateTime.idxmax()].he"
   ]
  },
  {
   "cell_type": "code",
   "execution_count": 25,
   "metadata": {},
   "outputs": [],
   "source": [
    "filling_2018_rdup = filling_2018.loc[filling_2018.groupby('EIN').DateTime.idxmax()]"
   ]
  },
  {
   "cell_type": "code",
   "execution_count": null,
   "metadata": {},
   "outputs": [],
   "source": [
    "#filling_2018 = filling_2018_dup.loc[filling_2018_dup.groupby('EIN').SubmittedOn.idxmax()]"
   ]
  },
  {
   "cell_type": "code",
   "execution_count": null,
   "metadata": {},
   "outputs": [],
   "source": [
    "#filling_2018_d = filling_2018.EIN.where(filling_2018.EIN == 10777850 ); filling_2018_d"
   ]
  },
  {
   "cell_type": "code",
   "execution_count": null,
   "metadata": {},
   "outputs": [],
   "source": [
    "#df_final.loc[(df_final['website'] != 'N/A')]"
   ]
  },
  {
   "cell_type": "code",
   "execution_count": 47,
   "metadata": {},
   "outputs": [
    {
     "data": {
      "text/plain": [
       "DLN                 409840\n",
       "EIN                 409840\n",
       "FormType            409840\n",
       "LastUpdated         409840\n",
       "ObjectId            409840\n",
       "OrganizationName    409840\n",
       "SubmittedOn         409840\n",
       "TaxPeriod           409840\n",
       "URL                 409840\n",
       "DateTime            409840\n",
       "dtype: int64"
      ]
     },
     "execution_count": 47,
     "metadata": {},
     "output_type": "execute_result"
    }
   ],
   "source": [
    "filling_2018_rdup.count()"
   ]
  },
  {
   "cell_type": "code",
   "execution_count": 41,
   "metadata": {},
   "outputs": [],
   "source": [
    "f_2018_1 = filling_2018_rdup.loc[(filling_2018_rdup['EIN'] == 10586306)] \n",
    "#df_columns.loc[(df_columns['FormType'] != '990PF')]"
   ]
  },
  {
   "cell_type": "code",
   "execution_count": 42,
   "metadata": {},
   "outputs": [
    {
     "data": {
      "text/html": [
       "<div>\n",
       "<style scoped>\n",
       "    .dataframe tbody tr th:only-of-type {\n",
       "        vertical-align: middle;\n",
       "    }\n",
       "\n",
       "    .dataframe tbody tr th {\n",
       "        vertical-align: top;\n",
       "    }\n",
       "\n",
       "    .dataframe thead th {\n",
       "        text-align: right;\n",
       "    }\n",
       "</style>\n",
       "<table border=\"1\" class=\"dataframe\">\n",
       "  <thead>\n",
       "    <tr style=\"text-align: right;\">\n",
       "      <th></th>\n",
       "      <th>DLN</th>\n",
       "      <th>EIN</th>\n",
       "      <th>FormType</th>\n",
       "      <th>LastUpdated</th>\n",
       "      <th>ObjectId</th>\n",
       "      <th>OrganizationName</th>\n",
       "      <th>SubmittedOn</th>\n",
       "      <th>TaxPeriod</th>\n",
       "      <th>URL</th>\n",
       "      <th>DateTime</th>\n",
       "    </tr>\n",
       "  </thead>\n",
       "  <tbody>\n",
       "    <tr>\n",
       "      <th>130095</th>\n",
       "      <td>93492044004388</td>\n",
       "      <td>10586306</td>\n",
       "      <td>990EZ</td>\n",
       "      <td>2018-03-14T23:04:38</td>\n",
       "      <td>201830449349200438</td>\n",
       "      <td>BARCEDA FAMILIES</td>\n",
       "      <td>2018-03-05</td>\n",
       "      <td>201706</td>\n",
       "      <td>https://s3.amazonaws.com/irs-form-990/201830449349200438_public.xml</td>\n",
       "      <td>2018-03-05</td>\n",
       "    </tr>\n",
       "  </tbody>\n",
       "</table>\n",
       "</div>"
      ],
      "text/plain": [
       "                   DLN       EIN FormType          LastUpdated  \\\n",
       "130095  93492044004388  10586306  990EZ    2018-03-14T23:04:38   \n",
       "\n",
       "                  ObjectId  OrganizationName SubmittedOn TaxPeriod  \\\n",
       "130095  201830449349200438  BARCEDA FAMILIES  2018-03-05  201706     \n",
       "\n",
       "                                                                        URL  \\\n",
       "130095  https://s3.amazonaws.com/irs-form-990/201830449349200438_public.xml   \n",
       "\n",
       "         DateTime  \n",
       "130095 2018-03-05  "
      ]
     },
     "execution_count": 42,
     "metadata": {},
     "output_type": "execute_result"
    }
   ],
   "source": [
    "f_2018_1.head()"
   ]
  },
  {
   "cell_type": "code",
   "execution_count": 48,
   "metadata": {},
   "outputs": [
    {
     "data": {
      "text/plain": [
       "EIN            15100\n",
       "NAME           15100\n",
       "STREET         15100\n",
       "CITY           15100\n",
       "ZIP            15100\n",
       "ACTIVITY       15100\n",
       "NTEE_CD        8546 \n",
       "REVENUE_AMT    9759 \n",
       "dtype: int64"
      ]
     },
     "execution_count": 48,
     "metadata": {},
     "output_type": "execute_result"
    }
   ],
   "source": [
    "ntee_filter = pd.read_csv('merge_BMF.csv'); ntee_filter.count()"
   ]
  },
  {
   "cell_type": "code",
   "execution_count": 49,
   "metadata": {},
   "outputs": [],
   "source": [
    "#df_merge = ntee_filter.merge(filling_2018_rdup, how='left',left_on='EIN', right_on='EIN');\n",
    "df_merge = ntee_filter.merge(filling_2018_rdup, how='inner',on='EIN');"
   ]
  },
  {
   "cell_type": "code",
   "execution_count": 60,
   "metadata": {},
   "outputs": [
    {
     "data": {
      "text/plain": [
       "array(['990EZ', '990', '990PF'], dtype=object)"
      ]
     },
     "execution_count": 60,
     "metadata": {},
     "output_type": "execute_result"
    }
   ],
   "source": [
    "df_merge.FormType.unique()"
   ]
  },
  {
   "cell_type": "code",
   "execution_count": 61,
   "metadata": {},
   "outputs": [],
   "source": [
    "df_merge_990_PF = df_merge.loc[(df_merge['FormType'] != '990PF')]"
   ]
  },
  {
   "cell_type": "code",
   "execution_count": 62,
   "metadata": {},
   "outputs": [
    {
     "data": {
      "text/plain": [
       "EIN                 2544\n",
       "NAME                2544\n",
       "STREET              2544\n",
       "CITY                2544\n",
       "ZIP                 2544\n",
       "ACTIVITY            2544\n",
       "NTEE_CD             1756\n",
       "REVENUE_AMT         2540\n",
       "DLN                 2544\n",
       "FormType            2544\n",
       "LastUpdated         2544\n",
       "ObjectId            2544\n",
       "OrganizationName    2544\n",
       "SubmittedOn         2544\n",
       "TaxPeriod           2544\n",
       "URL                 2544\n",
       "DateTime            2544\n",
       "dtype: int64"
      ]
     },
     "execution_count": 62,
     "metadata": {},
     "output_type": "execute_result"
    }
   ],
   "source": [
    "df_merge_990_PF.count()"
   ]
  },
  {
   "cell_type": "code",
   "execution_count": 64,
   "metadata": {},
   "outputs": [
    {
     "data": {
      "text/plain": [
       "EIN         2544\n",
       "NAME        2544\n",
       "STREET      2544\n",
       "CITY        2544\n",
       "ZIP         2544\n",
       "ACTIVITY    2544\n",
       "NTEE_CD     1756\n",
       "URL         2544\n",
       "dtype: int64"
      ]
     },
     "execution_count": 64,
     "metadata": {},
     "output_type": "execute_result"
    }
   ],
   "source": [
    "df_columns = df_merge_990_PF[['EIN','NAME', 'STREET', 'CITY', 'ZIP', 'ACTIVITY','NTEE_CD','URL']]; df_columns.count()"
   ]
  },
  {
   "cell_type": "code",
   "execution_count": 65,
   "metadata": {},
   "outputs": [
    {
     "data": {
      "text/plain": [
       "EIN         2544\n",
       "NAME        2544\n",
       "STREET      2544\n",
       "CITY        2544\n",
       "ZIP         2544\n",
       "ACTIVITY    2544\n",
       "NTEE_CD     1756\n",
       "URL         2544\n",
       "dtype: int64"
      ]
     },
     "execution_count": 65,
     "metadata": {},
     "output_type": "execute_result"
    }
   ],
   "source": [
    "df_columns.count()"
   ]
  },
  {
   "cell_type": "code",
   "execution_count": 66,
   "metadata": {},
   "outputs": [],
   "source": [
    "df_columns_na = df_columns.loc[(df_columns['URL'] != 'N/A')]"
   ]
  },
  {
   "cell_type": "code",
   "execution_count": 67,
   "metadata": {},
   "outputs": [],
   "source": [
    "df_columns_na = df_columns_na.loc[(df_columns['URL'] != None )]"
   ]
  },
  {
   "cell_type": "code",
   "execution_count": 68,
   "metadata": {},
   "outputs": [],
   "source": [
    "df_columns_na  = df_columns_na [df_columns_na ['URL'].notnull()]"
   ]
  },
  {
   "cell_type": "code",
   "execution_count": 71,
   "metadata": {},
   "outputs": [
    {
     "data": {
      "text/plain": [
       "EIN         2544\n",
       "NAME        2544\n",
       "STREET      2544\n",
       "CITY        2544\n",
       "ZIP         2544\n",
       "ACTIVITY    2544\n",
       "NTEE_CD     1756\n",
       "URL         2544\n",
       "dtype: int64"
      ]
     },
     "execution_count": 71,
     "metadata": {},
     "output_type": "execute_result"
    }
   ],
   "source": [
    "df_columns_na.count()"
   ]
  },
  {
   "cell_type": "code",
   "execution_count": 72,
   "metadata": {},
   "outputs": [],
   "source": [
    "for index, row in df_columns_na.iterrows():\n",
    "    url=row[\"URL\"]\n",
    "    \n",
    "    sauce = urllib.request.urlopen(url).read()\n",
    "    \n",
    "    soup = bs.BeautifulSoup(sauce,'xml')\n",
    "    \n",
    "    phone = '' if soup.find('PhoneNum') == None or soup.find('PhoneNum').text == 'N/A' else soup.find('PhoneNum').text\n",
    "    df_columns_na.loc[index, 'phone'] = phone\n",
    "    \n",
    "    website = '' if soup.find('WebsiteAddressTxt') == None or soup.find('WebsiteAddressTxt').text == 'N/A' or soup.find('WebsiteAddressTxt').text == 'NA'else soup.find('WebsiteAddressTxt').text\n",
    "    df_columns_na.loc[index, 'website'] = website\n",
    "    \n",
    "    primary_except = '' if soup.find('PrimaryExemptPurposeTxt') == None or soup.find('PrimaryExemptPurposeTxt').text == 'N/A' else soup.find('PrimaryExemptPurposeTxt').text\n",
    "    df_columns_na.loc[index, 'primary_except'] = primary_except\n",
    "    \n",
    "    DescriptionProgramSrvcAccomTxt = '' if soup.find('DescriptionProgramSrvcAccomTxt') == None or soup.find('DescriptionProgramSrvcAccomTxt').text == 'N/A' else soup.find('DescriptionProgramSrvcAccomTxt').text\n",
    "    df_columns_na.loc[index, 'DescriptionProgramSrvcAccomTxt'] = DescriptionProgramSrvcAccomTxt\n",
    "    "
   ]
  },
  {
   "cell_type": "code",
   "execution_count": 73,
   "metadata": {},
   "outputs": [
    {
     "data": {
      "text/html": [
       "<div>\n",
       "<style scoped>\n",
       "    .dataframe tbody tr th:only-of-type {\n",
       "        vertical-align: middle;\n",
       "    }\n",
       "\n",
       "    .dataframe tbody tr th {\n",
       "        vertical-align: top;\n",
       "    }\n",
       "\n",
       "    .dataframe thead th {\n",
       "        text-align: right;\n",
       "    }\n",
       "</style>\n",
       "<table border=\"1\" class=\"dataframe\">\n",
       "  <thead>\n",
       "    <tr style=\"text-align: right;\">\n",
       "      <th></th>\n",
       "      <th>EIN</th>\n",
       "      <th>NAME</th>\n",
       "      <th>STREET</th>\n",
       "      <th>CITY</th>\n",
       "      <th>ZIP</th>\n",
       "      <th>ACTIVITY</th>\n",
       "      <th>NTEE_CD</th>\n",
       "      <th>URL</th>\n",
       "      <th>phone</th>\n",
       "      <th>website</th>\n",
       "      <th>primary_except</th>\n",
       "      <th>DescriptionProgramSrvcAccomTxt</th>\n",
       "    </tr>\n",
       "  </thead>\n",
       "  <tbody>\n",
       "    <tr>\n",
       "      <th>0</th>\n",
       "      <td>10605038</td>\n",
       "      <td>HABITAT FOR HUMANITY INTERNATIONAL INC</td>\n",
       "      <td>PO BOX 223</td>\n",
       "      <td>CASSVILLE</td>\n",
       "      <td>65625-0223</td>\n",
       "      <td>29380000</td>\n",
       "      <td>L20Z</td>\n",
       "      <td>https://s3.amazonaws.com/irs-form-990/201832499349200818_public.xml</td>\n",
       "      <td>4178472203</td>\n",
       "      <td>NA</td>\n",
       "      <td>SEE SCH O</td>\n",
       "      <td>TO IMPROVE THE QUALITY OF LIFE IN SOUTH BARRY COUNTY BY ELIMATING SUB-STANDARD HOUSING</td>\n",
       "    </tr>\n",
       "    <tr>\n",
       "      <th>1</th>\n",
       "      <td>15145247</td>\n",
       "      <td>AMVETS</td>\n",
       "      <td>318 BROAD ST</td>\n",
       "      <td>MOKANE</td>\n",
       "      <td>65059-1341</td>\n",
       "      <td>907000000</td>\n",
       "      <td>NaN</td>\n",
       "      <td>https://s3.amazonaws.com/irs-form-990/201833069349302108_public.xml</td>\n",
       "      <td>5736765494</td>\n",
       "      <td></td>\n",
       "      <td></td>\n",
       "      <td></td>\n",
       "    </tr>\n",
       "    <tr>\n",
       "      <th>2</th>\n",
       "      <td>20731227</td>\n",
       "      <td>ROTARY INTERNATIONAL</td>\n",
       "      <td>3200 S STATE ROUTE 291</td>\n",
       "      <td>INDEPENDENCE</td>\n",
       "      <td>64057-1702</td>\n",
       "      <td>520349200</td>\n",
       "      <td>NaN</td>\n",
       "      <td>https://s3.amazonaws.com/irs-form-990/201811309349202611_public.xml</td>\n",
       "      <td>8168330078</td>\n",
       "      <td>EASTERNINDEPENDENCEROTARY.ORG</td>\n",
       "      <td>ROTARY IS A SERVICE ORGANIZATION WHOSE MEMBERS WORK LOCALLY, REGIONALLY, AND INTERNATIONALLY THROUGH SERVICE PROJECTS AND DIRECT CHARITABLE CONTRIBUTIONS TO HELP THOSE LESS FORTUNATE THAN OURSELVES.</td>\n",
       "      <td>THE ROTARY CLUB OF INDEPENDENCE USED REVENUE FROM MEMBER DUES, MEALS, AND SPECIAL EVENTS TO FUND CHARITABLE CONTRIBUTIONS AND SERVICE PROJECTS INCLUDING CONTRIBUTIONS TO ROTARY INTERNATIONAL, INDEPENDENCE SCHOOL DISTRICT AND JOB ONE EMPLOYMENT OPPORTUNITIES FOR PEOPLE WITH DISABILITIES.</td>\n",
       "    </tr>\n",
       "    <tr>\n",
       "      <th>3</th>\n",
       "      <td>131995940</td>\n",
       "      <td>LUDHIANA CHRISTIAN MEDICAL COLLEGE BOARD U S A INC</td>\n",
       "      <td>PO BOX 1327</td>\n",
       "      <td>COLUMBIA</td>\n",
       "      <td>65205-1327</td>\n",
       "      <td>179029000</td>\n",
       "      <td>Q113</td>\n",
       "      <td>https://s3.amazonaws.com/irs-form-990/201822849349300532_public.xml</td>\n",
       "      <td>5737772924</td>\n",
       "      <td>HTTP://FOLUS.ORG</td>\n",
       "      <td></td>\n",
       "      <td></td>\n",
       "    </tr>\n",
       "    <tr>\n",
       "      <th>4</th>\n",
       "      <td>133352209</td>\n",
       "      <td>INTERNATIONAL PEDIATRIC NEPHROLOGY ASSOCIATION HOSPITAL</td>\n",
       "      <td>2401 GILLHAM RD</td>\n",
       "      <td>KANSAS CITY</td>\n",
       "      <td>64108-4619</td>\n",
       "      <td>161179000</td>\n",
       "      <td>NaN</td>\n",
       "      <td>https://s3.amazonaws.com/irs-form-990/201823189349312167_public.xml</td>\n",
       "      <td>8162343812</td>\n",
       "      <td>IPNA-ONLINE.ORG</td>\n",
       "      <td></td>\n",
       "      <td></td>\n",
       "    </tr>\n",
       "  </tbody>\n",
       "</table>\n",
       "</div>"
      ],
      "text/plain": [
       "         EIN                                                     NAME  \\\n",
       "0  10605038   HABITAT FOR HUMANITY INTERNATIONAL INC                    \n",
       "1  15145247   AMVETS                                                    \n",
       "2  20731227   ROTARY INTERNATIONAL                                      \n",
       "3  131995940  LUDHIANA CHRISTIAN MEDICAL COLLEGE BOARD U S A INC        \n",
       "4  133352209  INTERNATIONAL PEDIATRIC NEPHROLOGY ASSOCIATION HOSPITAL   \n",
       "\n",
       "                   STREET          CITY         ZIP   ACTIVITY NTEE_CD  \\\n",
       "0  PO BOX 223              CASSVILLE     65625-0223  29380000   L20Z     \n",
       "1  318 BROAD ST            MOKANE        65059-1341  907000000  NaN      \n",
       "2  3200 S STATE ROUTE 291  INDEPENDENCE  64057-1702  520349200  NaN      \n",
       "3  PO BOX 1327             COLUMBIA      65205-1327  179029000  Q113     \n",
       "4  2401 GILLHAM RD         KANSAS CITY   64108-4619  161179000  NaN      \n",
       "\n",
       "                                                                   URL  \\\n",
       "0  https://s3.amazonaws.com/irs-form-990/201832499349200818_public.xml   \n",
       "1  https://s3.amazonaws.com/irs-form-990/201833069349302108_public.xml   \n",
       "2  https://s3.amazonaws.com/irs-form-990/201811309349202611_public.xml   \n",
       "3  https://s3.amazonaws.com/irs-form-990/201822849349300532_public.xml   \n",
       "4  https://s3.amazonaws.com/irs-form-990/201823189349312167_public.xml   \n",
       "\n",
       "        phone                        website  \\\n",
       "0  4178472203  NA                              \n",
       "1  5736765494                                  \n",
       "2  8168330078  EASTERNINDEPENDENCEROTARY.ORG   \n",
       "3  5737772924  HTTP://FOLUS.ORG                \n",
       "4  8162343812  IPNA-ONLINE.ORG                 \n",
       "\n",
       "                                                                                                                                                                                           primary_except  \\\n",
       "0  SEE SCH O                                                                                                                                                                                                \n",
       "1                                                                                                                                                                                                           \n",
       "2  ROTARY IS A SERVICE ORGANIZATION WHOSE MEMBERS WORK LOCALLY, REGIONALLY, AND INTERNATIONALLY THROUGH SERVICE PROJECTS AND DIRECT CHARITABLE CONTRIBUTIONS TO HELP THOSE LESS FORTUNATE THAN OURSELVES.   \n",
       "3                                                                                                                                                                                                           \n",
       "4                                                                                                                                                                                                           \n",
       "\n",
       "                                                                                                                                                                                                                                                                    DescriptionProgramSrvcAccomTxt  \n",
       "0  TO IMPROVE THE QUALITY OF LIFE IN SOUTH BARRY COUNTY BY ELIMATING SUB-STANDARD HOUSING                                                                                                                                                                                                           \n",
       "1                                                                                                                                                                                                                                                                                                   \n",
       "2  THE ROTARY CLUB OF INDEPENDENCE USED REVENUE FROM MEMBER DUES, MEALS, AND SPECIAL EVENTS TO FUND CHARITABLE CONTRIBUTIONS AND SERVICE PROJECTS INCLUDING CONTRIBUTIONS TO ROTARY INTERNATIONAL, INDEPENDENCE SCHOOL DISTRICT AND JOB ONE EMPLOYMENT OPPORTUNITIES FOR PEOPLE WITH DISABILITIES.  \n",
       "3                                                                                                                                                                                                                                                                                                   \n",
       "4                                                                                                                                                                                                                                                                                                   "
      ]
     },
     "execution_count": 73,
     "metadata": {},
     "output_type": "execute_result"
    }
   ],
   "source": [
    "df_columns_na.head()"
   ]
  },
  {
   "cell_type": "code",
   "execution_count": 59,
   "metadata": {},
   "outputs": [],
   "source": [
    "pd.set_option('display.max_colwidth', -1)\n",
    "#df_columns_na.iloc[1:10] #df.iloc[2,0]"
   ]
  },
  {
   "cell_type": "code",
   "execution_count": 60,
   "metadata": {},
   "outputs": [
    {
     "data": {
      "text/html": [
       "<div>\n",
       "<style scoped>\n",
       "    .dataframe tbody tr th:only-of-type {\n",
       "        vertical-align: middle;\n",
       "    }\n",
       "\n",
       "    .dataframe tbody tr th {\n",
       "        vertical-align: top;\n",
       "    }\n",
       "\n",
       "    .dataframe thead th {\n",
       "        text-align: right;\n",
       "    }\n",
       "</style>\n",
       "<table border=\"1\" class=\"dataframe\">\n",
       "  <thead>\n",
       "    <tr style=\"text-align: right;\">\n",
       "      <th></th>\n",
       "      <th>EIN</th>\n",
       "      <th>NAME</th>\n",
       "      <th>STREET</th>\n",
       "      <th>CITY</th>\n",
       "      <th>ZIP</th>\n",
       "      <th>ACTIVITY</th>\n",
       "      <th>NTEE_CD</th>\n",
       "      <th>URL</th>\n",
       "      <th>FormType</th>\n",
       "      <th>phone</th>\n",
       "      <th>website</th>\n",
       "    </tr>\n",
       "  </thead>\n",
       "  <tbody>\n",
       "    <tr>\n",
       "      <th>3</th>\n",
       "      <td>10584486</td>\n",
       "      <td>ST LOUIS SENIOR DOG PROJECT</td>\n",
       "      <td>7488 RIVERMONT TRL</td>\n",
       "      <td>HOUSE SPRINGS</td>\n",
       "      <td>63051-2033</td>\n",
       "      <td>0</td>\n",
       "      <td>D20</td>\n",
       "      <td>https://s3.amazonaws.com/irs-form-990/201821429349200032_public.xml</td>\n",
       "      <td>990EZ</td>\n",
       "      <td>6362220895</td>\n",
       "      <td>N/A</td>\n",
       "    </tr>\n",
       "    <tr>\n",
       "      <th>4</th>\n",
       "      <td>10586306</td>\n",
       "      <td>BARCEDA FAMILIES</td>\n",
       "      <td>413 W WATER ST</td>\n",
       "      <td>GREENFIELD</td>\n",
       "      <td>65661-1353</td>\n",
       "      <td>0</td>\n",
       "      <td>P20</td>\n",
       "      <td>https://s3.amazonaws.com/irs-form-990/201830449349200438_public.xml</td>\n",
       "      <td>990EZ</td>\n",
       "      <td>4172764591</td>\n",
       "      <td>BARCEDA.ORG</td>\n",
       "    </tr>\n",
       "    <tr>\n",
       "      <th>8</th>\n",
       "      <td>10643653</td>\n",
       "      <td>AMERICAN ESKIMO RESCUE OF SAINT LOUIS INC</td>\n",
       "      <td>PO BOX 190523</td>\n",
       "      <td>SAINT LOUIS</td>\n",
       "      <td>63119-6523</td>\n",
       "      <td>0</td>\n",
       "      <td>D20</td>\n",
       "      <td>https://s3.amazonaws.com/irs-form-990/201812759349200231_public.xml</td>\n",
       "      <td>990EZ</td>\n",
       "      <td>3146471112</td>\n",
       "      <td>WWW.ESKIERESCUESTL.ORG</td>\n",
       "    </tr>\n",
       "  </tbody>\n",
       "</table>\n",
       "</div>"
      ],
      "text/plain": [
       "        EIN                                       NAME              STREET  \\\n",
       "3  10584486  ST LOUIS SENIOR DOG PROJECT                7488 RIVERMONT TRL   \n",
       "4  10586306  BARCEDA FAMILIES                           413 W WATER ST       \n",
       "8  10643653  AMERICAN ESKIMO RESCUE OF SAINT LOUIS INC  PO BOX 190523        \n",
       "\n",
       "            CITY         ZIP  ACTIVITY NTEE_CD  \\\n",
       "3  HOUSE SPRINGS  63051-2033  0         D20      \n",
       "4  GREENFIELD     65661-1353  0         P20      \n",
       "8  SAINT LOUIS    63119-6523  0         D20      \n",
       "\n",
       "                                                                   URL  \\\n",
       "3  https://s3.amazonaws.com/irs-form-990/201821429349200032_public.xml   \n",
       "4  https://s3.amazonaws.com/irs-form-990/201830449349200438_public.xml   \n",
       "8  https://s3.amazonaws.com/irs-form-990/201812759349200231_public.xml   \n",
       "\n",
       "  FormType       phone                 website  \n",
       "3  990EZ    6362220895  N/A                     \n",
       "4  990EZ    4172764591  BARCEDA.ORG             \n",
       "8  990EZ    3146471112  WWW.ESKIERESCUESTL.ORG  "
      ]
     },
     "execution_count": 60,
     "metadata": {},
     "output_type": "execute_result"
    }
   ],
   "source": [
    "df_columns_na.head(3)"
   ]
  },
  {
   "cell_type": "code",
   "execution_count": null,
   "metadata": {},
   "outputs": [],
   "source": [
    "#df_columns_na= df_columns_na.replace('No data', np.nan)"
   ]
  },
  {
   "cell_type": "code",
   "execution_count": null,
   "metadata": {},
   "outputs": [],
   "source": [
    "#df_columns_na.website.str.len\n",
    "#w.female.replace(to_replace=dict(female=1, male=0), inplace=True)\n",
    "#df_columns_na['website_len'] = 'a' if df_columns_na['website'].apply(len) < 3 else df_columns_na['website']"
   ]
  },
  {
   "cell_type": "code",
   "execution_count": null,
   "metadata": {},
   "outputs": [],
   "source": [
    "#df_columns_na['website_len']"
   ]
  },
  {
   "cell_type": "code",
   "execution_count": null,
   "metadata": {},
   "outputs": [],
   "source": [
    "df_columns_na.head()"
   ]
  },
  {
   "cell_type": "code",
   "execution_count": null,
   "metadata": {},
   "outputs": [],
   "source": [
    "df_columns_na_filter = df_columns_na[['EIN', 'NAME', 'website', 'phone', 'NTEE_CD']]"
   ]
  },
  {
   "cell_type": "code",
   "execution_count": null,
   "metadata": {},
   "outputs": [],
   "source": [
    "df['Section'] = df['Section'].str.zfill(2) df['Section'] = df['Section'].astype(str).str.zfill(2)"
   ]
  },
  {
   "cell_type": "code",
   "execution_count": null,
   "metadata": {},
   "outputs": [],
   "source": [
    "df_columns_na_filter['EIN'] = df_columns_na_filter['EIN'].astype(str).str.zfill(9)"
   ]
  },
  {
   "cell_type": "code",
   "execution_count": null,
   "metadata": {},
   "outputs": [],
   "source": [
    "df_columns_na_rename = df_columns_na_filter.rename(\n",
    "    columns={'EIN': 'EIN', 'NAME': 'name', 'website': 'url', 'phone': 'phone','NTEE_CD': 'services' })"
   ]
  },
  {
   "cell_type": "code",
   "execution_count": null,
   "metadata": {},
   "outputs": [],
   "source": [
    "df_columns_na_rename.dtypes"
   ]
  },
  {
   "cell_type": "code",
   "execution_count": null,
   "metadata": {},
   "outputs": [],
   "source": [
    "df_columns_na_rename = df_columns_na_rename.applymap(str)"
   ]
  },
  {
   "cell_type": "code",
   "execution_count": null,
   "metadata": {},
   "outputs": [],
   "source": [
    "df_columns_na_rename.dtypes"
   ]
  },
  {
   "cell_type": "code",
   "execution_count": null,
   "metadata": {},
   "outputs": [],
   "source": [
    "df_columns_na_rename.reset_index(drop=True, inplace=True)"
   ]
  },
  {
   "cell_type": "code",
   "execution_count": null,
   "metadata": {},
   "outputs": [],
   "source": [
    "df_columns_na_rename.columns"
   ]
  },
  {
   "cell_type": "code",
   "execution_count": null,
   "metadata": {},
   "outputs": [],
   "source": [
    "#df_columns_na_rename = df_columns_na_rename.loc[(df_columns['url'] != 'N/A')]"
   ]
  },
  {
   "cell_type": "code",
   "execution_count": null,
   "metadata": {},
   "outputs": [],
   "source": [
    "df_columns_na_rename.head()"
   ]
  },
  {
   "cell_type": "code",
   "execution_count": null,
   "metadata": {},
   "outputs": [],
   "source": [
    "df_columns_na_rename.to_csv('final_submission.csv')"
   ]
  },
  {
   "cell_type": "code",
   "execution_count": null,
   "metadata": {},
   "outputs": [],
   "source": [
    "df_columns_na_rename.to_json('final_submission.json', orient = \"records\")"
   ]
  },
  {
   "cell_type": "code",
   "execution_count": null,
   "metadata": {},
   "outputs": [],
   "source": []
  }
 ],
 "metadata": {
  "kernelspec": {
   "display_name": "Python 3",
   "language": "python",
   "name": "python3"
  },
  "language_info": {
   "codemirror_mode": {
    "name": "ipython",
    "version": 3
   },
   "file_extension": ".py",
   "mimetype": "text/x-python",
   "name": "python",
   "nbconvert_exporter": "python",
   "pygments_lexer": "ipython3",
   "version": "3.7.3"
  }
 },
 "nbformat": 4,
 "nbformat_minor": 2
}
