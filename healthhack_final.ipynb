{
 "cells": [
  {
   "cell_type": "markdown",
   "metadata": {},
   "source": [
    "### Import all python libraries"
   ]
  },
  {
   "cell_type": "code",
   "execution_count": 153,
   "metadata": {},
   "outputs": [],
   "source": [
    "import json\n",
    "import pandas as pd\n",
    "from pandas.io.json import json_normalize\n",
    "import numpy as np\n",
    "import requests\n",
    "import io\n",
    "import re\n",
    "import bs4 as bs\n",
    "import urllib.request"
   ]
  },
  {
   "cell_type": "code",
   "execution_count": 127,
   "metadata": {},
   "outputs": [],
   "source": [
    "#set pandas length to full\n",
    "pd.set_option('display.max_colwidth', -1)"
   ]
  },
  {
   "cell_type": "code",
   "execution_count": 128,
   "metadata": {},
   "outputs": [],
   "source": [
    "#Import filling 2018\n",
    "with open('index_2018.json') as f:\n",
    "    d = json.load(f)"
   ]
  },
  {
   "cell_type": "code",
   "execution_count": 129,
   "metadata": {},
   "outputs": [],
   "source": [
    "#create dataframe 2018\n",
    "filling_2018 = json_normalize(d['Filings2018'])"
   ]
  },
  {
   "cell_type": "code",
   "execution_count": 130,
   "metadata": {},
   "outputs": [
    {
     "data": {
      "text/html": [
       "<div>\n",
       "<style scoped>\n",
       "    .dataframe tbody tr th:only-of-type {\n",
       "        vertical-align: middle;\n",
       "    }\n",
       "\n",
       "    .dataframe tbody tr th {\n",
       "        vertical-align: top;\n",
       "    }\n",
       "\n",
       "    .dataframe thead th {\n",
       "        text-align: right;\n",
       "    }\n",
       "</style>\n",
       "<table border=\"1\" class=\"dataframe\">\n",
       "  <thead>\n",
       "    <tr style=\"text-align: right;\">\n",
       "      <th></th>\n",
       "      <th>DLN</th>\n",
       "      <th>EIN</th>\n",
       "      <th>FormType</th>\n",
       "      <th>LastUpdated</th>\n",
       "      <th>ObjectId</th>\n",
       "      <th>OrganizationName</th>\n",
       "      <th>SubmittedOn</th>\n",
       "      <th>TaxPeriod</th>\n",
       "      <th>URL</th>\n",
       "    </tr>\n",
       "  </thead>\n",
       "  <tbody>\n",
       "    <tr>\n",
       "      <th>0</th>\n",
       "      <td>93493318071517</td>\n",
       "      <td>453578215</td>\n",
       "      <td>990</td>\n",
       "      <td>2018-01-18T23:53:03</td>\n",
       "      <td>201713189349307151</td>\n",
       "      <td>MULEY FANATIC FOUNDATION OF WYOMING INC</td>\n",
       "      <td>2018-01-10</td>\n",
       "      <td>201612</td>\n",
       "      <td>https://s3.amazonaws.com/irs-form-990/201713189349307151_public.xml</td>\n",
       "    </tr>\n",
       "    <tr>\n",
       "      <th>1</th>\n",
       "      <td>93493318071467</td>\n",
       "      <td>383333202</td>\n",
       "      <td>990</td>\n",
       "      <td>2018-01-18T23:53:03</td>\n",
       "      <td>201713189349307146</td>\n",
       "      <td>KALAMAZOO COMMUNITY FOUNDATION</td>\n",
       "      <td>2018-01-10</td>\n",
       "      <td>201612</td>\n",
       "      <td>https://s3.amazonaws.com/irs-form-990/201713189349307146_public.xml</td>\n",
       "    </tr>\n",
       "    <tr>\n",
       "      <th>2</th>\n",
       "      <td>93493318071317</td>\n",
       "      <td>233014323</td>\n",
       "      <td>990</td>\n",
       "      <td>2018-01-18T23:53:03</td>\n",
       "      <td>201713189349307131</td>\n",
       "      <td>GOSPEL THROUGH COLOMBIA</td>\n",
       "      <td>2018-01-10</td>\n",
       "      <td>201612</td>\n",
       "      <td>https://s3.amazonaws.com/irs-form-990/201713189349307131_public.xml</td>\n",
       "    </tr>\n",
       "    <tr>\n",
       "      <th>3</th>\n",
       "      <td>93493318071117</td>\n",
       "      <td>351837569</td>\n",
       "      <td>990</td>\n",
       "      <td>2018-01-18T23:53:03</td>\n",
       "      <td>201713189349307111</td>\n",
       "      <td>PREMIER ARTS INC</td>\n",
       "      <td>2018-01-10</td>\n",
       "      <td>201612</td>\n",
       "      <td>https://s3.amazonaws.com/irs-form-990/201713189349307111_public.xml</td>\n",
       "    </tr>\n",
       "    <tr>\n",
       "      <th>4</th>\n",
       "      <td>93493318071067</td>\n",
       "      <td>133135292</td>\n",
       "      <td>990</td>\n",
       "      <td>2018-01-19T00:05:21</td>\n",
       "      <td>201713189349307106</td>\n",
       "      <td>ELDERS SHARE THE ARTS INC</td>\n",
       "      <td>2018-01-10</td>\n",
       "      <td>201706</td>\n",
       "      <td>https://s3.amazonaws.com/irs-form-990/201713189349307106_public.xml</td>\n",
       "    </tr>\n",
       "  </tbody>\n",
       "</table>\n",
       "</div>"
      ],
      "text/plain": [
       "              DLN        EIN FormType          LastUpdated  \\\n",
       "0  93493318071517  453578215  990      2018-01-18T23:53:03   \n",
       "1  93493318071467  383333202  990      2018-01-18T23:53:03   \n",
       "2  93493318071317  233014323  990      2018-01-18T23:53:03   \n",
       "3  93493318071117  351837569  990      2018-01-18T23:53:03   \n",
       "4  93493318071067  133135292  990      2018-01-19T00:05:21   \n",
       "\n",
       "             ObjectId                         OrganizationName SubmittedOn  \\\n",
       "0  201713189349307151  MULEY FANATIC FOUNDATION OF WYOMING INC  2018-01-10   \n",
       "1  201713189349307146  KALAMAZOO COMMUNITY FOUNDATION           2018-01-10   \n",
       "2  201713189349307131  GOSPEL THROUGH COLOMBIA                  2018-01-10   \n",
       "3  201713189349307111  PREMIER ARTS INC                         2018-01-10   \n",
       "4  201713189349307106  ELDERS SHARE THE ARTS INC                2018-01-10   \n",
       "\n",
       "  TaxPeriod  \\\n",
       "0  201612     \n",
       "1  201612     \n",
       "2  201612     \n",
       "3  201612     \n",
       "4  201706     \n",
       "\n",
       "                                                                   URL  \n",
       "0  https://s3.amazonaws.com/irs-form-990/201713189349307151_public.xml  \n",
       "1  https://s3.amazonaws.com/irs-form-990/201713189349307146_public.xml  \n",
       "2  https://s3.amazonaws.com/irs-form-990/201713189349307131_public.xml  \n",
       "3  https://s3.amazonaws.com/irs-form-990/201713189349307111_public.xml  \n",
       "4  https://s3.amazonaws.com/irs-form-990/201713189349307106_public.xml  "
      ]
     },
     "execution_count": 130,
     "metadata": {},
     "output_type": "execute_result"
    }
   ],
   "source": [
    "#display top 5 rows\n",
    "filling_2018.head()"
   ]
  },
  {
   "cell_type": "code",
   "execution_count": 131,
   "metadata": {},
   "outputs": [],
   "source": [
    "#convert SubmittedOn to latest\n",
    "filling_2018['DateTime'] = pd.to_datetime(filling_2018['SubmittedOn'])"
   ]
  },
  {
   "cell_type": "code",
   "execution_count": 133,
   "metadata": {},
   "outputs": [],
   "source": [
    "#pick the latest filling by date\n",
    "filling_2018_rdup = filling_2018.loc[filling_2018.groupby('EIN').DateTime.idxmax()]"
   ]
  },
  {
   "cell_type": "code",
   "execution_count": 134,
   "metadata": {},
   "outputs": [
    {
     "data": {
      "text/plain": [
       "DLN                 409840\n",
       "EIN                 409840\n",
       "FormType            409840\n",
       "LastUpdated         409840\n",
       "ObjectId            409840\n",
       "OrganizationName    409840\n",
       "SubmittedOn         409840\n",
       "TaxPeriod           409840\n",
       "URL                 409840\n",
       "DateTime            409840\n",
       "dtype: int64"
      ]
     },
     "execution_count": 134,
     "metadata": {},
     "output_type": "execute_result"
    }
   ],
   "source": [
    "filling_2018_rdup.count()"
   ]
  },
  {
   "cell_type": "code",
   "execution_count": 135,
   "metadata": {},
   "outputs": [
    {
     "data": {
      "text/plain": [
       "EIN            15100\n",
       "NAME           15100\n",
       "STREET         15100\n",
       "CITY           15100\n",
       "ZIP            15100\n",
       "ACTIVITY       15100\n",
       "NTEE_CD        8546 \n",
       "REVENUE_AMT    9759 \n",
       "dtype: int64"
      ]
     },
     "execution_count": 135,
     "metadata": {},
     "output_type": "execute_result"
    }
   ],
   "source": [
    "#read in BMF file for Missouri\n",
    "ntee_filter = pd.read_csv('merge_BMF.csv'); ntee_filter.count()"
   ]
  },
  {
   "cell_type": "code",
   "execution_count": 136,
   "metadata": {},
   "outputs": [],
   "source": [
    "#convert EIN to string with 9 digits\n",
    "ntee_filter['EIN'] = ntee_filter['EIN'].astype(str).str.zfill(9)"
   ]
  },
  {
   "cell_type": "code",
   "execution_count": 138,
   "metadata": {},
   "outputs": [
    {
     "data": {
      "text/html": [
       "<div>\n",
       "<style scoped>\n",
       "    .dataframe tbody tr th:only-of-type {\n",
       "        vertical-align: middle;\n",
       "    }\n",
       "\n",
       "    .dataframe tbody tr th {\n",
       "        vertical-align: top;\n",
       "    }\n",
       "\n",
       "    .dataframe thead th {\n",
       "        text-align: right;\n",
       "    }\n",
       "</style>\n",
       "<table border=\"1\" class=\"dataframe\">\n",
       "  <thead>\n",
       "    <tr style=\"text-align: right;\">\n",
       "      <th></th>\n",
       "      <th>EIN</th>\n",
       "      <th>NAME</th>\n",
       "      <th>STREET</th>\n",
       "      <th>CITY</th>\n",
       "      <th>ZIP</th>\n",
       "      <th>ACTIVITY</th>\n",
       "      <th>NTEE_CD</th>\n",
       "      <th>REVENUE_AMT</th>\n",
       "    </tr>\n",
       "  </thead>\n",
       "  <tbody>\n",
       "    <tr>\n",
       "      <th>0</th>\n",
       "      <td>000360268</td>\n",
       "      <td>IGLESIA VICTORIA</td>\n",
       "      <td>1445 N BOONVILLE AVE</td>\n",
       "      <td>SPRINGFIELD</td>\n",
       "      <td>65802-1894</td>\n",
       "      <td>1002029</td>\n",
       "      <td>NaN</td>\n",
       "      <td>NaN</td>\n",
       "    </tr>\n",
       "    <tr>\n",
       "      <th>1</th>\n",
       "      <td>010605038</td>\n",
       "      <td>HABITAT FOR HUMANITY INTERNATIONAL INC</td>\n",
       "      <td>PO BOX 223</td>\n",
       "      <td>CASSVILLE</td>\n",
       "      <td>65625-0223</td>\n",
       "      <td>29380000</td>\n",
       "      <td>L20Z</td>\n",
       "      <td>116609.0</td>\n",
       "    </tr>\n",
       "    <tr>\n",
       "      <th>2</th>\n",
       "      <td>010829991</td>\n",
       "      <td>MORLEY CHURCH OF GOD</td>\n",
       "      <td>PO BOX 267</td>\n",
       "      <td>MORLEY</td>\n",
       "      <td>63767-0267</td>\n",
       "      <td>1268000</td>\n",
       "      <td>NaN</td>\n",
       "      <td>NaN</td>\n",
       "    </tr>\n",
       "    <tr>\n",
       "      <th>3</th>\n",
       "      <td>010905967</td>\n",
       "      <td>DIOCESE OF JEFFERSON CITY REAL ESTATE CORPORATION</td>\n",
       "      <td>PO BOX 104900</td>\n",
       "      <td>JEFFERSON CTY</td>\n",
       "      <td>65110-4900</td>\n",
       "      <td>31150120</td>\n",
       "      <td>NaN</td>\n",
       "      <td>NaN</td>\n",
       "    </tr>\n",
       "    <tr>\n",
       "      <th>4</th>\n",
       "      <td>010911918</td>\n",
       "      <td>MISSOURI NATIONAL EDUCATION ASSOCIATION</td>\n",
       "      <td>1810 E ELM ST</td>\n",
       "      <td>JEFFERSON CTY</td>\n",
       "      <td>65101-4100</td>\n",
       "      <td>261000000</td>\n",
       "      <td>NaN</td>\n",
       "      <td>0.0</td>\n",
       "    </tr>\n",
       "  </tbody>\n",
       "</table>\n",
       "</div>"
      ],
      "text/plain": [
       "         EIN                                               NAME  \\\n",
       "0  000360268  IGLESIA VICTORIA                                    \n",
       "1  010605038  HABITAT FOR HUMANITY INTERNATIONAL INC              \n",
       "2  010829991  MORLEY CHURCH OF GOD                                \n",
       "3  010905967  DIOCESE OF JEFFERSON CITY REAL ESTATE CORPORATION   \n",
       "4  010911918  MISSOURI NATIONAL EDUCATION ASSOCIATION             \n",
       "\n",
       "                 STREET           CITY         ZIP   ACTIVITY NTEE_CD  \\\n",
       "0  1445 N BOONVILLE AVE  SPRINGFIELD    65802-1894  1002029    NaN      \n",
       "1  PO BOX 223            CASSVILLE      65625-0223  29380000   L20Z     \n",
       "2  PO BOX 267            MORLEY         63767-0267  1268000    NaN      \n",
       "3  PO BOX 104900         JEFFERSON CTY  65110-4900  31150120   NaN      \n",
       "4  1810 E ELM ST         JEFFERSON CTY  65101-4100  261000000  NaN      \n",
       "\n",
       "   REVENUE_AMT  \n",
       "0 NaN           \n",
       "1  116609.0     \n",
       "2 NaN           \n",
       "3 NaN           \n",
       "4  0.0          "
      ]
     },
     "execution_count": 138,
     "metadata": {},
     "output_type": "execute_result"
    }
   ],
   "source": [
    "#display top 5 rows\n",
    "ntee_filter.head()"
   ]
  },
  {
   "cell_type": "code",
   "execution_count": 139,
   "metadata": {},
   "outputs": [],
   "source": [
    "#Merge 2018 filling with BMF dataset\n",
    "df_merge = ntee_filter.merge(filling_2018_rdup, how='inner',on='EIN');"
   ]
  },
  {
   "cell_type": "code",
   "execution_count": 140,
   "metadata": {},
   "outputs": [],
   "source": [
    "#Filter out the FormType 990PF\n",
    "df_merge_990_PF = df_merge.loc[(df_merge['FormType'] != '990PF')]"
   ]
  },
  {
   "cell_type": "code",
   "execution_count": 141,
   "metadata": {},
   "outputs": [
    {
     "data": {
      "text/plain": [
       "EIN                 2544\n",
       "NAME                2544\n",
       "STREET              2544\n",
       "CITY                2544\n",
       "ZIP                 2544\n",
       "ACTIVITY            2544\n",
       "NTEE_CD             1756\n",
       "REVENUE_AMT         2540\n",
       "DLN                 2544\n",
       "FormType            2544\n",
       "LastUpdated         2544\n",
       "ObjectId            2544\n",
       "OrganizationName    2544\n",
       "SubmittedOn         2544\n",
       "TaxPeriod           2544\n",
       "URL                 2544\n",
       "DateTime            2544\n",
       "dtype: int64"
      ]
     },
     "execution_count": 141,
     "metadata": {},
     "output_type": "execute_result"
    }
   ],
   "source": [
    "df_merge_990_PF.count()"
   ]
  },
  {
   "cell_type": "code",
   "execution_count": 142,
   "metadata": {},
   "outputs": [
    {
     "data": {
      "text/plain": [
       "EIN         2544\n",
       "NAME        2544\n",
       "STREET      2544\n",
       "CITY        2544\n",
       "ZIP         2544\n",
       "ACTIVITY    2544\n",
       "NTEE_CD     1756\n",
       "URL         2544\n",
       "dtype: int64"
      ]
     },
     "execution_count": 142,
     "metadata": {},
     "output_type": "execute_result"
    }
   ],
   "source": [
    "#Select the columsn\n",
    "df_columns = df_merge_990_PF[['EIN','NAME', 'STREET', 'CITY', 'ZIP', 'ACTIVITY','NTEE_CD','URL']]; df_columns.count()"
   ]
  },
  {
   "cell_type": "code",
   "execution_count": 143,
   "metadata": {},
   "outputs": [
    {
     "data": {
      "text/html": [
       "<div>\n",
       "<style scoped>\n",
       "    .dataframe tbody tr th:only-of-type {\n",
       "        vertical-align: middle;\n",
       "    }\n",
       "\n",
       "    .dataframe tbody tr th {\n",
       "        vertical-align: top;\n",
       "    }\n",
       "\n",
       "    .dataframe thead th {\n",
       "        text-align: right;\n",
       "    }\n",
       "</style>\n",
       "<table border=\"1\" class=\"dataframe\">\n",
       "  <thead>\n",
       "    <tr style=\"text-align: right;\">\n",
       "      <th></th>\n",
       "      <th>EIN</th>\n",
       "      <th>NAME</th>\n",
       "      <th>STREET</th>\n",
       "      <th>CITY</th>\n",
       "      <th>ZIP</th>\n",
       "      <th>ACTIVITY</th>\n",
       "      <th>NTEE_CD</th>\n",
       "      <th>URL</th>\n",
       "    </tr>\n",
       "  </thead>\n",
       "  <tbody>\n",
       "    <tr>\n",
       "      <th>0</th>\n",
       "      <td>010605038</td>\n",
       "      <td>HABITAT FOR HUMANITY INTERNATIONAL INC</td>\n",
       "      <td>PO BOX 223</td>\n",
       "      <td>CASSVILLE</td>\n",
       "      <td>65625-0223</td>\n",
       "      <td>29380000</td>\n",
       "      <td>L20Z</td>\n",
       "      <td>https://s3.amazonaws.com/irs-form-990/201832499349200818_public.xml</td>\n",
       "    </tr>\n",
       "    <tr>\n",
       "      <th>1</th>\n",
       "      <td>015145247</td>\n",
       "      <td>AMVETS</td>\n",
       "      <td>318 BROAD ST</td>\n",
       "      <td>MOKANE</td>\n",
       "      <td>65059-1341</td>\n",
       "      <td>907000000</td>\n",
       "      <td>NaN</td>\n",
       "      <td>https://s3.amazonaws.com/irs-form-990/201833069349302108_public.xml</td>\n",
       "    </tr>\n",
       "    <tr>\n",
       "      <th>2</th>\n",
       "      <td>020731227</td>\n",
       "      <td>ROTARY INTERNATIONAL</td>\n",
       "      <td>3200 S STATE ROUTE 291</td>\n",
       "      <td>INDEPENDENCE</td>\n",
       "      <td>64057-1702</td>\n",
       "      <td>520349200</td>\n",
       "      <td>NaN</td>\n",
       "      <td>https://s3.amazonaws.com/irs-form-990/201811309349202611_public.xml</td>\n",
       "    </tr>\n",
       "    <tr>\n",
       "      <th>3</th>\n",
       "      <td>131995940</td>\n",
       "      <td>LUDHIANA CHRISTIAN MEDICAL COLLEGE BOARD U S A INC</td>\n",
       "      <td>PO BOX 1327</td>\n",
       "      <td>COLUMBIA</td>\n",
       "      <td>65205-1327</td>\n",
       "      <td>179029000</td>\n",
       "      <td>Q113</td>\n",
       "      <td>https://s3.amazonaws.com/irs-form-990/201822849349300532_public.xml</td>\n",
       "    </tr>\n",
       "    <tr>\n",
       "      <th>4</th>\n",
       "      <td>133352209</td>\n",
       "      <td>INTERNATIONAL PEDIATRIC NEPHROLOGY ASSOCIATION HOSPITAL</td>\n",
       "      <td>2401 GILLHAM RD</td>\n",
       "      <td>KANSAS CITY</td>\n",
       "      <td>64108-4619</td>\n",
       "      <td>161179000</td>\n",
       "      <td>NaN</td>\n",
       "      <td>https://s3.amazonaws.com/irs-form-990/201823189349312167_public.xml</td>\n",
       "    </tr>\n",
       "  </tbody>\n",
       "</table>\n",
       "</div>"
      ],
      "text/plain": [
       "         EIN                                                     NAME  \\\n",
       "0  010605038  HABITAT FOR HUMANITY INTERNATIONAL INC                    \n",
       "1  015145247  AMVETS                                                    \n",
       "2  020731227  ROTARY INTERNATIONAL                                      \n",
       "3  131995940  LUDHIANA CHRISTIAN MEDICAL COLLEGE BOARD U S A INC        \n",
       "4  133352209  INTERNATIONAL PEDIATRIC NEPHROLOGY ASSOCIATION HOSPITAL   \n",
       "\n",
       "                   STREET          CITY         ZIP   ACTIVITY NTEE_CD  \\\n",
       "0  PO BOX 223              CASSVILLE     65625-0223  29380000   L20Z     \n",
       "1  318 BROAD ST            MOKANE        65059-1341  907000000  NaN      \n",
       "2  3200 S STATE ROUTE 291  INDEPENDENCE  64057-1702  520349200  NaN      \n",
       "3  PO BOX 1327             COLUMBIA      65205-1327  179029000  Q113     \n",
       "4  2401 GILLHAM RD         KANSAS CITY   64108-4619  161179000  NaN      \n",
       "\n",
       "                                                                   URL  \n",
       "0  https://s3.amazonaws.com/irs-form-990/201832499349200818_public.xml  \n",
       "1  https://s3.amazonaws.com/irs-form-990/201833069349302108_public.xml  \n",
       "2  https://s3.amazonaws.com/irs-form-990/201811309349202611_public.xml  \n",
       "3  https://s3.amazonaws.com/irs-form-990/201822849349300532_public.xml  \n",
       "4  https://s3.amazonaws.com/irs-form-990/201823189349312167_public.xml  "
      ]
     },
     "execution_count": 143,
     "metadata": {},
     "output_type": "execute_result"
    }
   ],
   "source": [
    "#display top 5 rows\n",
    "df_columns.head()"
   ]
  },
  {
   "cell_type": "code",
   "execution_count": 145,
   "metadata": {},
   "outputs": [],
   "source": [
    "#Filter out Null, N/A, and Blank\n",
    "df_columns_na = df_columns.loc[(df_columns['URL'] != 'N/A')]\n",
    "df_columns_na = df_columns_na.loc[(df_columns['URL'] != None )]\n",
    "df_columns_na  = df_columns_na [df_columns_na ['URL'].notnull()]"
   ]
  },
  {
   "cell_type": "code",
   "execution_count": 146,
   "metadata": {},
   "outputs": [
    {
     "data": {
      "text/plain": [
       "EIN         2544\n",
       "NAME        2544\n",
       "STREET      2544\n",
       "CITY        2544\n",
       "ZIP         2544\n",
       "ACTIVITY    2544\n",
       "NTEE_CD     1756\n",
       "URL         2544\n",
       "dtype: int64"
      ]
     },
     "execution_count": 146,
     "metadata": {},
     "output_type": "execute_result"
    }
   ],
   "source": [
    "df_columns_na.count()"
   ]
  },
  {
   "cell_type": "markdown",
   "metadata": {},
   "source": [
    "#### write a loop to pull in phone number, website, primary exempt, and description program."
   ]
  },
  {
   "cell_type": "code",
   "execution_count": 147,
   "metadata": {},
   "outputs": [],
   "source": [
    "for index, row in df_columns_na.iterrows():\n",
    "    url=row[\"URL\"]\n",
    "    \n",
    "    sauce = urllib.request.urlopen(url).read()\n",
    "    \n",
    "    soup = bs.BeautifulSoup(sauce,'xml')\n",
    "    \n",
    "    phone = '' if soup.find('PhoneNum') == None or soup.find('PhoneNum').text == 'N/A' else soup.find('PhoneNum').text\n",
    "    df_columns_na.loc[index, 'phone'] = phone\n",
    "    \n",
    "    website = '' if soup.find('WebsiteAddressTxt') == None or soup.find('WebsiteAddressTxt').text == 'N/A' or soup.find('WebsiteAddressTxt').text == 'NA'else soup.find('WebsiteAddressTxt').text\n",
    "    df_columns_na.loc[index, 'website'] = website\n",
    "    \n",
    "    primary_except = '' if soup.find('PrimaryExemptPurposeTxt') == None or soup.find('PrimaryExemptPurposeTxt').text == 'N/A' else soup.find('PrimaryExemptPurposeTxt').text\n",
    "    df_columns_na.loc[index, 'primary_except'] = primary_except\n",
    "    \n",
    "    DescriptionProgramSrvcAccomTxt = '' if soup.find('DescriptionProgramSrvcAccomTxt') == None or soup.find('DescriptionProgramSrvcAccomTxt').text == 'N/A' else soup.find('DescriptionProgramSrvcAccomTxt').text\n",
    "    df_columns_na.loc[index, 'DescriptionProgramSrvcAccomTxt'] = DescriptionProgramSrvcAccomTxt\n",
    "    \n",
    "    filerein = '' if soup.find('EIN') == None or soup.find('EIN').text == 'N/A' else soup.find('EIN').text\n",
    "    df_columns_na.loc[index, 'filerein'] = filerein\n",
    "    \n",
    "    StateAbbreviationCd = '' if soup.find('StateAbbreviationCd') == None or soup.find('StateAbbreviationCd').text == 'N/A' else soup.find('StateAbbreviationCd').text\n",
    "    df_columns_na.loc[index, 'StateAbbreviationCd'] = StateAbbreviationCd\n",
    "    "
   ]
  },
  {
   "cell_type": "code",
   "execution_count": 151,
   "metadata": {},
   "outputs": [],
   "source": [
    "#Filter out only EIN that have a website\n",
    "df_columns_website_nn  = df_columns_na[df_columns_na['website'] != \"\"]"
   ]
  },
  {
   "cell_type": "code",
   "execution_count": 148,
   "metadata": {},
   "outputs": [],
   "source": [
    "#Pull EIN with primary exempt description and description program service account.\n",
    "df_columns_website_nn_aws = df_columns_website_nn[['EIN','primary_except','DescriptionProgramSrvcAccomTxt']]"
   ]
  },
  {
   "cell_type": "code",
   "execution_count": null,
   "metadata": {},
   "outputs": [],
   "source": [
    "# Concatenate the text fields together\n",
    "df_columns_website_nn_aws['value'] = df_columns_website_nn_aws['primary_except'] + df_columns_website_nn_aws['DescriptionProgramSrvcAccomTxt']"
   ]
  },
  {
   "cell_type": "code",
   "execution_count": 117,
   "metadata": {},
   "outputs": [
    {
     "data": {
      "text/plain": [
       "EIN                               1383\n",
       "primary_except                    1383\n",
       "DescriptionProgramSrvcAccomTxt    1383\n",
       "value                             1383\n",
       "dtype: int64"
      ]
     },
     "execution_count": 117,
     "metadata": {},
     "output_type": "execute_result"
    }
   ],
   "source": [
    "df_columns_website_nn_aws.count()"
   ]
  },
  {
   "cell_type": "code",
   "execution_count": 118,
   "metadata": {},
   "outputs": [],
   "source": [
    "df_columns_website_nn_aws_filter = df_columns_website_nn_aws[df_columns_website_nn_aws['value'] != \"\"]"
   ]
  },
  {
   "cell_type": "code",
   "execution_count": 119,
   "metadata": {},
   "outputs": [
    {
     "data": {
      "text/plain": [
       "EIN                               263\n",
       "primary_except                    263\n",
       "DescriptionProgramSrvcAccomTxt    263\n",
       "value                             263\n",
       "dtype: int64"
      ]
     },
     "execution_count": 119,
     "metadata": {},
     "output_type": "execute_result"
    }
   ],
   "source": [
    "df_columns_website_nn_aws_filter.count()"
   ]
  },
  {
   "cell_type": "code",
   "execution_count": 120,
   "metadata": {},
   "outputs": [],
   "source": [
    "df_columns_website_nn_aws_filter_col = df_columns_website_nn_aws_filter[['EIN','value']]"
   ]
  },
  {
   "cell_type": "code",
   "execution_count": 123,
   "metadata": {},
   "outputs": [
    {
     "data": {
      "text/plain": [
       "EIN      263\n",
       "value    263\n",
       "dtype: int64"
      ]
     },
     "execution_count": 123,
     "metadata": {},
     "output_type": "execute_result"
    }
   ],
   "source": [
    "df_columns_website_nn_aws_filter_col.count()"
   ]
  },
  {
   "cell_type": "code",
   "execution_count": 125,
   "metadata": {},
   "outputs": [],
   "source": [
    "df_columns_website_nn_aws_filter_col.to_csv('awscomprehend.csv')"
   ]
  },
  {
   "cell_type": "code",
   "execution_count": 67,
   "metadata": {},
   "outputs": [
    {
     "ename": "NameError",
     "evalue": "name 'df_columns_website_nn_aws' is not defined",
     "output_type": "error",
     "traceback": [
      "\u001b[0;31m---------------------------------------------------------------------------\u001b[0m",
      "\u001b[0;31mNameError\u001b[0m                                 Traceback (most recent call last)",
      "\u001b[0;32m<ipython-input-67-bdd859a8a445>\u001b[0m in \u001b[0;36m<module>\u001b[0;34m\u001b[0m\n\u001b[0;32m----> 1\u001b[0;31m \u001b[0mdf_columns_website_nn_aws_filter\u001b[0m \u001b[0;34m=\u001b[0m \u001b[0mdf_columns_website_nn_aws\u001b[0m\u001b[0;34m.\u001b[0m\u001b[0mloc\u001b[0m\u001b[0;34m[\u001b[0m\u001b[0;34m(\u001b[0m\u001b[0mdf_columns_website_nn_aws\u001b[0m\u001b[0;34m[\u001b[0m\u001b[0;34m'url'\u001b[0m\u001b[0;34m]\u001b[0m \u001b[0;34m!=\u001b[0m \u001b[0;34m''\u001b[0m\u001b[0;34m)\u001b[0m\u001b[0;34m]\u001b[0m\u001b[0;34m\u001b[0m\u001b[0;34m\u001b[0m\u001b[0m\n\u001b[0m\u001b[1;32m      2\u001b[0m \u001b[0;31m#df_columns_na_rename.loc[(df_columns['url'] != 'N/A')]\u001b[0m\u001b[0;34m\u001b[0m\u001b[0;34m\u001b[0m\u001b[0;34m\u001b[0m\u001b[0m\n",
      "\u001b[0;31mNameError\u001b[0m: name 'df_columns_website_nn_aws' is not defined"
     ]
    }
   ],
   "source": [
    "df_columns_website_nn_aws_filter = df_columns_website_nn_aws.loc[(df_columns_website_nn_aws['url'] != '')]\n",
    "#df_columns_na_rename.loc[(df_columns['url'] != 'N/A')]"
   ]
  },
  {
   "cell_type": "code",
   "execution_count": 95,
   "metadata": {},
   "outputs": [],
   "source": [
    "df_columns_website_nn_filter = df_columns_website_nn_st[['EIN', 'NAME', 'website', 'phone', 'NTEE_CD']]"
   ]
  },
  {
   "cell_type": "code",
   "execution_count": 96,
   "metadata": {},
   "outputs": [
    {
     "data": {
      "text/plain": [
       "EIN        object\n",
       "NAME       object\n",
       "website    object\n",
       "phone      object\n",
       "NTEE_CD    object\n",
       "dtype: object"
      ]
     },
     "execution_count": 96,
     "metadata": {},
     "output_type": "execute_result"
    }
   ],
   "source": [
    "df_columns_website_nn_filter.dtypes"
   ]
  },
  {
   "cell_type": "code",
   "execution_count": 97,
   "metadata": {},
   "outputs": [
    {
     "data": {
      "text/plain": [
       "EIN        1195\n",
       "NAME       1195\n",
       "website    1195\n",
       "phone      1195\n",
       "NTEE_CD    919 \n",
       "dtype: int64"
      ]
     },
     "execution_count": 97,
     "metadata": {},
     "output_type": "execute_result"
    }
   ],
   "source": [
    "df_columns_website_nn_filter.count()"
   ]
  },
  {
   "cell_type": "code",
   "execution_count": 98,
   "metadata": {},
   "outputs": [],
   "source": [
    "df_columns_website_nn_filter_rename = df_columns_website_nn_filter.rename(\n",
    "    columns={'EIN': 'EIN', 'NAME': 'name', 'website': 'url', 'phone': 'phone','NTEE_CD': 'services' })"
   ]
  },
  {
   "cell_type": "code",
   "execution_count": 99,
   "metadata": {},
   "outputs": [
    {
     "data": {
      "text/plain": [
       "EIN         object\n",
       "name        object\n",
       "url         object\n",
       "phone       object\n",
       "services    object\n",
       "dtype: object"
      ]
     },
     "execution_count": 99,
     "metadata": {},
     "output_type": "execute_result"
    }
   ],
   "source": [
    "df_columns_website_nn_filter_rename.dtypes"
   ]
  },
  {
   "cell_type": "code",
   "execution_count": 100,
   "metadata": {},
   "outputs": [
    {
     "data": {
      "text/plain": [
       "EIN         1195\n",
       "name        1195\n",
       "url         1195\n",
       "phone       1195\n",
       "services    919 \n",
       "dtype: int64"
      ]
     },
     "execution_count": 100,
     "metadata": {},
     "output_type": "execute_result"
    }
   ],
   "source": [
    "df_columns_website_nn_filter_rename.count()"
   ]
  },
  {
   "cell_type": "code",
   "execution_count": 75,
   "metadata": {},
   "outputs": [
    {
     "data": {
      "text/plain": [
       "Index(['EIN', 'name', 'url', 'phone', 'services'], dtype='object')"
      ]
     },
     "execution_count": 75,
     "metadata": {},
     "output_type": "execute_result"
    }
   ],
   "source": [
    "df_columns_website_nn_filter_rename.columns"
   ]
  },
  {
   "cell_type": "code",
   "execution_count": 101,
   "metadata": {},
   "outputs": [
    {
     "data": {
      "text/html": [
       "<div>\n",
       "<style scoped>\n",
       "    .dataframe tbody tr th:only-of-type {\n",
       "        vertical-align: middle;\n",
       "    }\n",
       "\n",
       "    .dataframe tbody tr th {\n",
       "        vertical-align: top;\n",
       "    }\n",
       "\n",
       "    .dataframe thead th {\n",
       "        text-align: right;\n",
       "    }\n",
       "</style>\n",
       "<table border=\"1\" class=\"dataframe\">\n",
       "  <thead>\n",
       "    <tr style=\"text-align: right;\">\n",
       "      <th></th>\n",
       "      <th>EIN</th>\n",
       "      <th>name</th>\n",
       "      <th>url</th>\n",
       "      <th>phone</th>\n",
       "      <th>services</th>\n",
       "    </tr>\n",
       "  </thead>\n",
       "  <tbody>\n",
       "    <tr>\n",
       "      <th>2</th>\n",
       "      <td>020731227</td>\n",
       "      <td>ROTARY INTERNATIONAL</td>\n",
       "      <td>EASTERNINDEPENDENCEROTARY.ORG</td>\n",
       "      <td>8168330078</td>\n",
       "      <td>NaN</td>\n",
       "    </tr>\n",
       "    <tr>\n",
       "      <th>3</th>\n",
       "      <td>131995940</td>\n",
       "      <td>LUDHIANA CHRISTIAN MEDICAL COLLEGE BOARD U S A INC</td>\n",
       "      <td>HTTP://FOLUS.ORG</td>\n",
       "      <td>5737772924</td>\n",
       "      <td>Q113</td>\n",
       "    </tr>\n",
       "    <tr>\n",
       "      <th>5</th>\n",
       "      <td>161608735</td>\n",
       "      <td>OUR LADY OF PEACE INC</td>\n",
       "      <td>www.ladyofpeace.org</td>\n",
       "      <td>7162982900</td>\n",
       "      <td>NaN</td>\n",
       "    </tr>\n",
       "    <tr>\n",
       "      <th>7</th>\n",
       "      <td>201723584</td>\n",
       "      <td>LCMS NATIONAL HOUSING SUPPORT CORPORATION</td>\n",
       "      <td>WWW.NATIONALHOUSINGSUPPORT.ORG</td>\n",
       "      <td>3149961389</td>\n",
       "      <td>NaN</td>\n",
       "    </tr>\n",
       "    <tr>\n",
       "      <th>8</th>\n",
       "      <td>202493166</td>\n",
       "      <td>LIFEWAY CENTER INC</td>\n",
       "      <td>www.lifewaycenter.com</td>\n",
       "      <td>5732471116</td>\n",
       "      <td>NaN</td>\n",
       "    </tr>\n",
       "  </tbody>\n",
       "</table>\n",
       "</div>"
      ],
      "text/plain": [
       "         EIN                                                name  \\\n",
       "2  020731227  ROTARY INTERNATIONAL                                 \n",
       "3  131995940  LUDHIANA CHRISTIAN MEDICAL COLLEGE BOARD U S A INC   \n",
       "5  161608735  OUR LADY OF PEACE INC                                \n",
       "7  201723584  LCMS NATIONAL HOUSING SUPPORT CORPORATION            \n",
       "8  202493166  LIFEWAY CENTER INC                                   \n",
       "\n",
       "                              url       phone services  \n",
       "2  EASTERNINDEPENDENCEROTARY.ORG   8168330078  NaN      \n",
       "3  HTTP://FOLUS.ORG                5737772924  Q113     \n",
       "5  www.ladyofpeace.org             7162982900  NaN      \n",
       "7  WWW.NATIONALHOUSINGSUPPORT.ORG  3149961389  NaN      \n",
       "8  www.lifewaycenter.com           5732471116  NaN      "
      ]
     },
     "execution_count": 101,
     "metadata": {},
     "output_type": "execute_result"
    }
   ],
   "source": [
    "df_columns_website_nn_filter_rename.head()"
   ]
  },
  {
   "cell_type": "code",
   "execution_count": 102,
   "metadata": {},
   "outputs": [],
   "source": [
    "#Change ULR to lower\n",
    "df_columns_website_nn_filter_rename['url'] = df_columns_website_nn_filter_rename.url.str.lower()"
   ]
  },
  {
   "cell_type": "code",
   "execution_count": 103,
   "metadata": {},
   "outputs": [
    {
     "data": {
      "text/html": [
       "<div>\n",
       "<style scoped>\n",
       "    .dataframe tbody tr th:only-of-type {\n",
       "        vertical-align: middle;\n",
       "    }\n",
       "\n",
       "    .dataframe tbody tr th {\n",
       "        vertical-align: top;\n",
       "    }\n",
       "\n",
       "    .dataframe thead th {\n",
       "        text-align: right;\n",
       "    }\n",
       "</style>\n",
       "<table border=\"1\" class=\"dataframe\">\n",
       "  <thead>\n",
       "    <tr style=\"text-align: right;\">\n",
       "      <th></th>\n",
       "      <th>EIN</th>\n",
       "      <th>name</th>\n",
       "      <th>url</th>\n",
       "      <th>phone</th>\n",
       "      <th>services</th>\n",
       "    </tr>\n",
       "  </thead>\n",
       "  <tbody>\n",
       "    <tr>\n",
       "      <th>2</th>\n",
       "      <td>020731227</td>\n",
       "      <td>ROTARY INTERNATIONAL</td>\n",
       "      <td>easternindependencerotary.org</td>\n",
       "      <td>8168330078</td>\n",
       "      <td>NaN</td>\n",
       "    </tr>\n",
       "    <tr>\n",
       "      <th>3</th>\n",
       "      <td>131995940</td>\n",
       "      <td>LUDHIANA CHRISTIAN MEDICAL COLLEGE BOARD U S A INC</td>\n",
       "      <td>http://folus.org</td>\n",
       "      <td>5737772924</td>\n",
       "      <td>Q113</td>\n",
       "    </tr>\n",
       "    <tr>\n",
       "      <th>5</th>\n",
       "      <td>161608735</td>\n",
       "      <td>OUR LADY OF PEACE INC</td>\n",
       "      <td>www.ladyofpeace.org</td>\n",
       "      <td>7162982900</td>\n",
       "      <td>NaN</td>\n",
       "    </tr>\n",
       "    <tr>\n",
       "      <th>7</th>\n",
       "      <td>201723584</td>\n",
       "      <td>LCMS NATIONAL HOUSING SUPPORT CORPORATION</td>\n",
       "      <td>www.nationalhousingsupport.org</td>\n",
       "      <td>3149961389</td>\n",
       "      <td>NaN</td>\n",
       "    </tr>\n",
       "    <tr>\n",
       "      <th>8</th>\n",
       "      <td>202493166</td>\n",
       "      <td>LIFEWAY CENTER INC</td>\n",
       "      <td>www.lifewaycenter.com</td>\n",
       "      <td>5732471116</td>\n",
       "      <td>NaN</td>\n",
       "    </tr>\n",
       "  </tbody>\n",
       "</table>\n",
       "</div>"
      ],
      "text/plain": [
       "         EIN                                                name  \\\n",
       "2  020731227  ROTARY INTERNATIONAL                                 \n",
       "3  131995940  LUDHIANA CHRISTIAN MEDICAL COLLEGE BOARD U S A INC   \n",
       "5  161608735  OUR LADY OF PEACE INC                                \n",
       "7  201723584  LCMS NATIONAL HOUSING SUPPORT CORPORATION            \n",
       "8  202493166  LIFEWAY CENTER INC                                   \n",
       "\n",
       "                              url       phone services  \n",
       "2  easternindependencerotary.org   8168330078  NaN      \n",
       "3  http://folus.org                5737772924  Q113     \n",
       "5  www.ladyofpeace.org             7162982900  NaN      \n",
       "7  www.nationalhousingsupport.org  3149961389  NaN      \n",
       "8  www.lifewaycenter.com           5732471116  NaN      "
      ]
     },
     "execution_count": 103,
     "metadata": {},
     "output_type": "execute_result"
    }
   ],
   "source": [
    "df_columns_website_nn_filter_rename.head()"
   ]
  },
  {
   "cell_type": "code",
   "execution_count": 104,
   "metadata": {},
   "outputs": [],
   "source": [
    "#output to csv file\n",
    "df_columns_website_nn_filter_rename.to_csv('submission.csv')"
   ]
  },
  {
   "cell_type": "code",
   "execution_count": 105,
   "metadata": {},
   "outputs": [],
   "source": [
    "#out ouput to json file\n",
    "df_columns_website_nn_filter_rename.to_json('submission.json', orient = \"records\")"
   ]
  }
 ],
 "metadata": {
  "kernelspec": {
   "display_name": "Python 3",
   "language": "python",
   "name": "python3"
  },
  "language_info": {
   "codemirror_mode": {
    "name": "ipython",
    "version": 3
   },
   "file_extension": ".py",
   "mimetype": "text/x-python",
   "name": "python",
   "nbconvert_exporter": "python",
   "pygments_lexer": "ipython3",
   "version": "3.7.3"
  }
 },
 "nbformat": 4,
 "nbformat_minor": 2
}
