{
 "cells": [
  {
   "cell_type": "code",
   "execution_count": 17,
   "metadata": {},
   "outputs": [],
   "source": [
    "import json\n",
    "import pandas as pd\n",
    "from pandas.io.json import json_normalize\n",
    "import numpy as np\n",
    "import requests\n",
    "import io\n",
    "import re\n",
    "import bs4 as bs\n",
    "import urllib.request"
   ]
  },
  {
   "cell_type": "code",
   "execution_count": 18,
   "metadata": {},
   "outputs": [],
   "source": [
    "pd.set_option('display.max_colwidth', -1)"
   ]
  },
  {
   "cell_type": "code",
   "execution_count": 19,
   "metadata": {},
   "outputs": [],
   "source": [
    "with open('index_2018.json') as f:\n",
    "    d = json.load(f)"
   ]
  },
  {
   "cell_type": "code",
   "execution_count": 20,
   "metadata": {},
   "outputs": [],
   "source": [
    "filling_2018 = json_normalize(d['Filings2018'])"
   ]
  },
  {
   "cell_type": "code",
   "execution_count": 21,
   "metadata": {},
   "outputs": [],
   "source": [
    "filling_2018['EIN'] = filling_2018['EIN'].astype(np.int64)"
   ]
  },
  {
   "cell_type": "code",
   "execution_count": 22,
   "metadata": {},
   "outputs": [],
   "source": [
    "filling_2018['DateTime'] = pd.to_datetime(filling_2018['SubmittedOn'])"
   ]
  },
  {
   "cell_type": "code",
   "execution_count": 23,
   "metadata": {},
   "outputs": [
    {
     "data": {
      "text/plain": [
       "array(['990', '990PF', '990EZ'], dtype=object)"
      ]
     },
     "execution_count": 23,
     "metadata": {},
     "output_type": "execute_result"
    }
   ],
   "source": [
    "filling_2018.FormType.unique()"
   ]
  },
  {
   "cell_type": "code",
   "execution_count": 24,
   "metadata": {},
   "outputs": [],
   "source": [
    "#filling_2018_dup.loc[filling_2018_dup.groupby('EIN').DateTime.idxmax()].he"
   ]
  },
  {
   "cell_type": "code",
   "execution_count": 25,
   "metadata": {},
   "outputs": [],
   "source": [
    "filling_2018_rdup = filling_2018.loc[filling_2018.groupby('EIN').DateTime.idxmax()]"
   ]
  },
  {
   "cell_type": "code",
   "execution_count": null,
   "metadata": {},
   "outputs": [],
   "source": [
    "#filling_2018 = filling_2018_dup.loc[filling_2018_dup.groupby('EIN').SubmittedOn.idxmax()]"
   ]
  },
  {
   "cell_type": "code",
   "execution_count": null,
   "metadata": {},
   "outputs": [],
   "source": [
    "#filling_2018_d = filling_2018.EIN.where(filling_2018.EIN == 10777850 ); filling_2018_d"
   ]
  },
  {
   "cell_type": "code",
   "execution_count": null,
   "metadata": {},
   "outputs": [],
   "source": [
    "#df_final.loc[(df_final['website'] != 'N/A')]"
   ]
  },
  {
   "cell_type": "code",
   "execution_count": 47,
   "metadata": {},
   "outputs": [
    {
     "data": {
      "text/plain": [
       "DLN                 409840\n",
       "EIN                 409840\n",
       "FormType            409840\n",
       "LastUpdated         409840\n",
       "ObjectId            409840\n",
       "OrganizationName    409840\n",
       "SubmittedOn         409840\n",
       "TaxPeriod           409840\n",
       "URL                 409840\n",
       "DateTime            409840\n",
       "dtype: int64"
      ]
     },
     "execution_count": 47,
     "metadata": {},
     "output_type": "execute_result"
    }
   ],
   "source": [
    "filling_2018_rdup.count()"
   ]
  },
  {
   "cell_type": "code",
   "execution_count": 41,
   "metadata": {},
   "outputs": [],
   "source": [
    "f_2018_1 = filling_2018_rdup.loc[(filling_2018_rdup['EIN'] == 10586306)] \n",
    "#df_columns.loc[(df_columns['FormType'] != '990PF')]"
   ]
  },
  {
   "cell_type": "code",
   "execution_count": 42,
   "metadata": {},
   "outputs": [
    {
     "data": {
      "text/html": [
       "<div>\n",
       "<style scoped>\n",
       "    .dataframe tbody tr th:only-of-type {\n",
       "        vertical-align: middle;\n",
       "    }\n",
       "\n",
       "    .dataframe tbody tr th {\n",
       "        vertical-align: top;\n",
       "    }\n",
       "\n",
       "    .dataframe thead th {\n",
       "        text-align: right;\n",
       "    }\n",
       "</style>\n",
       "<table border=\"1\" class=\"dataframe\">\n",
       "  <thead>\n",
       "    <tr style=\"text-align: right;\">\n",
       "      <th></th>\n",
       "      <th>DLN</th>\n",
       "      <th>EIN</th>\n",
       "      <th>FormType</th>\n",
       "      <th>LastUpdated</th>\n",
       "      <th>ObjectId</th>\n",
       "      <th>OrganizationName</th>\n",
       "      <th>SubmittedOn</th>\n",
       "      <th>TaxPeriod</th>\n",
       "      <th>URL</th>\n",
       "      <th>DateTime</th>\n",
       "    </tr>\n",
       "  </thead>\n",
       "  <tbody>\n",
       "    <tr>\n",
       "      <th>130095</th>\n",
       "      <td>93492044004388</td>\n",
       "      <td>10586306</td>\n",
       "      <td>990EZ</td>\n",
       "      <td>2018-03-14T23:04:38</td>\n",
       "      <td>201830449349200438</td>\n",
       "      <td>BARCEDA FAMILIES</td>\n",
       "      <td>2018-03-05</td>\n",
       "      <td>201706</td>\n",
       "      <td>https://s3.amazonaws.com/irs-form-990/201830449349200438_public.xml</td>\n",
       "      <td>2018-03-05</td>\n",
       "    </tr>\n",
       "  </tbody>\n",
       "</table>\n",
       "</div>"
      ],
      "text/plain": [
       "                   DLN       EIN FormType          LastUpdated  \\\n",
       "130095  93492044004388  10586306  990EZ    2018-03-14T23:04:38   \n",
       "\n",
       "                  ObjectId  OrganizationName SubmittedOn TaxPeriod  \\\n",
       "130095  201830449349200438  BARCEDA FAMILIES  2018-03-05  201706     \n",
       "\n",
       "                                                                        URL  \\\n",
       "130095  https://s3.amazonaws.com/irs-form-990/201830449349200438_public.xml   \n",
       "\n",
       "         DateTime  \n",
       "130095 2018-03-05  "
      ]
     },
     "execution_count": 42,
     "metadata": {},
     "output_type": "execute_result"
    }
   ],
   "source": [
    "f_2018_1.head()"
   ]
  },
  {
   "cell_type": "code",
   "execution_count": 48,
   "metadata": {},
   "outputs": [
    {
     "data": {
      "text/plain": [
       "EIN            15100\n",
       "NAME           15100\n",
       "STREET         15100\n",
       "CITY           15100\n",
       "ZIP            15100\n",
       "ACTIVITY       15100\n",
       "NTEE_CD        8546 \n",
       "REVENUE_AMT    9759 \n",
       "dtype: int64"
      ]
     },
     "execution_count": 48,
     "metadata": {},
     "output_type": "execute_result"
    }
   ],
   "source": [
    "ntee_filter = pd.read_csv('merge_BMF.csv'); ntee_filter.count()"
   ]
  },
  {
   "cell_type": "code",
   "execution_count": 49,
   "metadata": {},
   "outputs": [],
   "source": [
    "#df_merge = ntee_filter.merge(filling_2018_rdup, how='left',left_on='EIN', right_on='EIN');\n",
    "df_merge = ntee_filter.merge(filling_2018_rdup, how='inner',on='EIN');"
   ]
  },
  {
   "cell_type": "code",
   "execution_count": 60,
   "metadata": {},
   "outputs": [
    {
     "data": {
      "text/plain": [
       "array(['990EZ', '990', '990PF'], dtype=object)"
      ]
     },
     "execution_count": 60,
     "metadata": {},
     "output_type": "execute_result"
    }
   ],
   "source": [
    "df_merge.FormType.unique()"
   ]
  },
  {
   "cell_type": "code",
   "execution_count": 61,
   "metadata": {},
   "outputs": [],
   "source": [
    "df_merge_990_PF = df_merge.loc[(df_merge['FormType'] != '990PF')]"
   ]
  },
  {
   "cell_type": "code",
   "execution_count": 62,
   "metadata": {},
   "outputs": [
    {
     "data": {
      "text/plain": [
       "EIN                 2544\n",
       "NAME                2544\n",
       "STREET              2544\n",
       "CITY                2544\n",
       "ZIP                 2544\n",
       "ACTIVITY            2544\n",
       "NTEE_CD             1756\n",
       "REVENUE_AMT         2540\n",
       "DLN                 2544\n",
       "FormType            2544\n",
       "LastUpdated         2544\n",
       "ObjectId            2544\n",
       "OrganizationName    2544\n",
       "SubmittedOn         2544\n",
       "TaxPeriod           2544\n",
       "URL                 2544\n",
       "DateTime            2544\n",
       "dtype: int64"
      ]
     },
     "execution_count": 62,
     "metadata": {},
     "output_type": "execute_result"
    }
   ],
   "source": [
    "df_merge_990_PF.count()"
   ]
  },
  {
   "cell_type": "code",
   "execution_count": 64,
   "metadata": {},
   "outputs": [
    {
     "data": {
      "text/plain": [
       "EIN         2544\n",
       "NAME        2544\n",
       "STREET      2544\n",
       "CITY        2544\n",
       "ZIP         2544\n",
       "ACTIVITY    2544\n",
       "NTEE_CD     1756\n",
       "URL         2544\n",
       "dtype: int64"
      ]
     },
     "execution_count": 64,
     "metadata": {},
     "output_type": "execute_result"
    }
   ],
   "source": [
    "df_columns = df_merge_990_PF[['EIN','NAME', 'STREET', 'CITY', 'ZIP', 'ACTIVITY','NTEE_CD','URL']]; df_columns.count()"
   ]
  },
  {
   "cell_type": "code",
   "execution_count": 65,
   "metadata": {},
   "outputs": [
    {
     "data": {
      "text/plain": [
       "EIN         2544\n",
       "NAME        2544\n",
       "STREET      2544\n",
       "CITY        2544\n",
       "ZIP         2544\n",
       "ACTIVITY    2544\n",
       "NTEE_CD     1756\n",
       "URL         2544\n",
       "dtype: int64"
      ]
     },
     "execution_count": 65,
     "metadata": {},
     "output_type": "execute_result"
    }
   ],
   "source": [
    "df_columns.count()"
   ]
  },
  {
   "cell_type": "code",
   "execution_count": 66,
   "metadata": {},
   "outputs": [],
   "source": [
    "df_columns_na = df_columns.loc[(df_columns['URL'] != 'N/A')]"
   ]
  },
  {
   "cell_type": "code",
   "execution_count": 67,
   "metadata": {},
   "outputs": [],
   "source": [
    "df_columns_na = df_columns_na.loc[(df_columns['URL'] != None )]"
   ]
  },
  {
   "cell_type": "code",
   "execution_count": 68,
   "metadata": {},
   "outputs": [],
   "source": [
    "df_columns_na  = df_columns_na [df_columns_na ['URL'].notnull()]"
   ]
  },
  {
   "cell_type": "code",
   "execution_count": 71,
   "metadata": {},
   "outputs": [
    {
     "data": {
      "text/plain": [
       "EIN         2544\n",
       "NAME        2544\n",
       "STREET      2544\n",
       "CITY        2544\n",
       "ZIP         2544\n",
       "ACTIVITY    2544\n",
       "NTEE_CD     1756\n",
       "URL         2544\n",
       "dtype: int64"
      ]
     },
     "execution_count": 71,
     "metadata": {},
     "output_type": "execute_result"
    }
   ],
   "source": [
    "df_columns_na.count()"
   ]
  },
  {
   "cell_type": "code",
   "execution_count": 85,
   "metadata": {},
   "outputs": [],
   "source": [
    "for index, row in df_columns_na.iterrows():\n",
    "    url=row[\"URL\"]\n",
    "    \n",
    "    sauce = urllib.request.urlopen(url).read()\n",
    "    \n",
    "    soup = bs.BeautifulSoup(sauce,'xml')\n",
    "    \n",
    "    phone = '' if soup.find('PhoneNum') == None or soup.find('PhoneNum').text == 'N/A' else soup.find('PhoneNum').text\n",
    "    df_columns_na.loc[index, 'phone'] = phone\n",
    "    \n",
    "    website = '' if soup.find('WebsiteAddressTxt') == None or soup.find('WebsiteAddressTxt').text == 'N/A' or soup.find('WebsiteAddressTxt').text == 'NA'else soup.find('WebsiteAddressTxt').text\n",
    "    df_columns_na.loc[index, 'website'] = website\n",
    "    \n",
    "    primary_except = '' if soup.find('PrimaryExemptPurposeTxt') == None or soup.find('PrimaryExemptPurposeTxt').text == 'N/A' else soup.find('PrimaryExemptPurposeTxt').text\n",
    "    df_columns_na.loc[index, 'primary_except'] = primary_except\n",
    "    \n",
    "    DescriptionProgramSrvcAccomTxt = '' if soup.find('DescriptionProgramSrvcAccomTxt') == None or soup.find('DescriptionProgramSrvcAccomTxt').text == 'N/A' else soup.find('DescriptionProgramSrvcAccomTxt').text\n",
    "    df_columns_na.loc[index, 'DescriptionProgramSrvcAccomTxt'] = DescriptionProgramSrvcAccomTxt\n",
    "    "
   ]
  },
  {
   "cell_type": "code",
   "execution_count": 86,
   "metadata": {},
   "outputs": [
    {
     "data": {
      "text/html": [
       "<div>\n",
       "<style scoped>\n",
       "    .dataframe tbody tr th:only-of-type {\n",
       "        vertical-align: middle;\n",
       "    }\n",
       "\n",
       "    .dataframe tbody tr th {\n",
       "        vertical-align: top;\n",
       "    }\n",
       "\n",
       "    .dataframe thead th {\n",
       "        text-align: right;\n",
       "    }\n",
       "</style>\n",
       "<table border=\"1\" class=\"dataframe\">\n",
       "  <thead>\n",
       "    <tr style=\"text-align: right;\">\n",
       "      <th></th>\n",
       "      <th>EIN</th>\n",
       "      <th>NAME</th>\n",
       "      <th>STREET</th>\n",
       "      <th>CITY</th>\n",
       "      <th>ZIP</th>\n",
       "      <th>ACTIVITY</th>\n",
       "      <th>NTEE_CD</th>\n",
       "      <th>URL</th>\n",
       "      <th>phone</th>\n",
       "      <th>website</th>\n",
       "      <th>primary_except</th>\n",
       "      <th>DescriptionProgramSrvcAccomTxt</th>\n",
       "    </tr>\n",
       "  </thead>\n",
       "  <tbody>\n",
       "    <tr>\n",
       "      <th>0</th>\n",
       "      <td>10605038</td>\n",
       "      <td>HABITAT FOR HUMANITY INTERNATIONAL INC</td>\n",
       "      <td>PO BOX 223</td>\n",
       "      <td>CASSVILLE</td>\n",
       "      <td>65625-0223</td>\n",
       "      <td>29380000</td>\n",
       "      <td>L20Z</td>\n",
       "      <td>https://s3.amazonaws.com/irs-form-990/201832499349200818_public.xml</td>\n",
       "      <td>4178472203</td>\n",
       "      <td></td>\n",
       "      <td>SEE SCH O</td>\n",
       "      <td>TO IMPROVE THE QUALITY OF LIFE IN SOUTH BARRY COUNTY BY ELIMATING SUB-STANDARD HOUSING</td>\n",
       "    </tr>\n",
       "    <tr>\n",
       "      <th>1</th>\n",
       "      <td>15145247</td>\n",
       "      <td>AMVETS</td>\n",
       "      <td>318 BROAD ST</td>\n",
       "      <td>MOKANE</td>\n",
       "      <td>65059-1341</td>\n",
       "      <td>907000000</td>\n",
       "      <td>NaN</td>\n",
       "      <td>https://s3.amazonaws.com/irs-form-990/201833069349302108_public.xml</td>\n",
       "      <td>5736765494</td>\n",
       "      <td></td>\n",
       "      <td></td>\n",
       "      <td></td>\n",
       "    </tr>\n",
       "    <tr>\n",
       "      <th>2</th>\n",
       "      <td>20731227</td>\n",
       "      <td>ROTARY INTERNATIONAL</td>\n",
       "      <td>3200 S STATE ROUTE 291</td>\n",
       "      <td>INDEPENDENCE</td>\n",
       "      <td>64057-1702</td>\n",
       "      <td>520349200</td>\n",
       "      <td>NaN</td>\n",
       "      <td>https://s3.amazonaws.com/irs-form-990/201811309349202611_public.xml</td>\n",
       "      <td>8168330078</td>\n",
       "      <td>EASTERNINDEPENDENCEROTARY.ORG</td>\n",
       "      <td>ROTARY IS A SERVICE ORGANIZATION WHOSE MEMBERS WORK LOCALLY, REGIONALLY, AND INTERNATIONALLY THROUGH SERVICE PROJECTS AND DIRECT CHARITABLE CONTRIBUTIONS TO HELP THOSE LESS FORTUNATE THAN OURSELVES.</td>\n",
       "      <td>THE ROTARY CLUB OF INDEPENDENCE USED REVENUE FROM MEMBER DUES, MEALS, AND SPECIAL EVENTS TO FUND CHARITABLE CONTRIBUTIONS AND SERVICE PROJECTS INCLUDING CONTRIBUTIONS TO ROTARY INTERNATIONAL, INDEPENDENCE SCHOOL DISTRICT AND JOB ONE EMPLOYMENT OPPORTUNITIES FOR PEOPLE WITH DISABILITIES.</td>\n",
       "    </tr>\n",
       "    <tr>\n",
       "      <th>3</th>\n",
       "      <td>131995940</td>\n",
       "      <td>LUDHIANA CHRISTIAN MEDICAL COLLEGE BOARD U S A INC</td>\n",
       "      <td>PO BOX 1327</td>\n",
       "      <td>COLUMBIA</td>\n",
       "      <td>65205-1327</td>\n",
       "      <td>179029000</td>\n",
       "      <td>Q113</td>\n",
       "      <td>https://s3.amazonaws.com/irs-form-990/201822849349300532_public.xml</td>\n",
       "      <td>5737772924</td>\n",
       "      <td>HTTP://FOLUS.ORG</td>\n",
       "      <td></td>\n",
       "      <td></td>\n",
       "    </tr>\n",
       "    <tr>\n",
       "      <th>4</th>\n",
       "      <td>133352209</td>\n",
       "      <td>INTERNATIONAL PEDIATRIC NEPHROLOGY ASSOCIATION HOSPITAL</td>\n",
       "      <td>2401 GILLHAM RD</td>\n",
       "      <td>KANSAS CITY</td>\n",
       "      <td>64108-4619</td>\n",
       "      <td>161179000</td>\n",
       "      <td>NaN</td>\n",
       "      <td>https://s3.amazonaws.com/irs-form-990/201823189349312167_public.xml</td>\n",
       "      <td>8162343812</td>\n",
       "      <td>IPNA-ONLINE.ORG</td>\n",
       "      <td></td>\n",
       "      <td></td>\n",
       "    </tr>\n",
       "  </tbody>\n",
       "</table>\n",
       "</div>"
      ],
      "text/plain": [
       "         EIN                                                     NAME  \\\n",
       "0  10605038   HABITAT FOR HUMANITY INTERNATIONAL INC                    \n",
       "1  15145247   AMVETS                                                    \n",
       "2  20731227   ROTARY INTERNATIONAL                                      \n",
       "3  131995940  LUDHIANA CHRISTIAN MEDICAL COLLEGE BOARD U S A INC        \n",
       "4  133352209  INTERNATIONAL PEDIATRIC NEPHROLOGY ASSOCIATION HOSPITAL   \n",
       "\n",
       "                   STREET          CITY         ZIP   ACTIVITY NTEE_CD  \\\n",
       "0  PO BOX 223              CASSVILLE     65625-0223  29380000   L20Z     \n",
       "1  318 BROAD ST            MOKANE        65059-1341  907000000  NaN      \n",
       "2  3200 S STATE ROUTE 291  INDEPENDENCE  64057-1702  520349200  NaN      \n",
       "3  PO BOX 1327             COLUMBIA      65205-1327  179029000  Q113     \n",
       "4  2401 GILLHAM RD         KANSAS CITY   64108-4619  161179000  NaN      \n",
       "\n",
       "                                                                   URL  \\\n",
       "0  https://s3.amazonaws.com/irs-form-990/201832499349200818_public.xml   \n",
       "1  https://s3.amazonaws.com/irs-form-990/201833069349302108_public.xml   \n",
       "2  https://s3.amazonaws.com/irs-form-990/201811309349202611_public.xml   \n",
       "3  https://s3.amazonaws.com/irs-form-990/201822849349300532_public.xml   \n",
       "4  https://s3.amazonaws.com/irs-form-990/201823189349312167_public.xml   \n",
       "\n",
       "        phone                        website  \\\n",
       "0  4178472203                                  \n",
       "1  5736765494                                  \n",
       "2  8168330078  EASTERNINDEPENDENCEROTARY.ORG   \n",
       "3  5737772924  HTTP://FOLUS.ORG                \n",
       "4  8162343812  IPNA-ONLINE.ORG                 \n",
       "\n",
       "                                                                                                                                                                                           primary_except  \\\n",
       "0  SEE SCH O                                                                                                                                                                                                \n",
       "1                                                                                                                                                                                                           \n",
       "2  ROTARY IS A SERVICE ORGANIZATION WHOSE MEMBERS WORK LOCALLY, REGIONALLY, AND INTERNATIONALLY THROUGH SERVICE PROJECTS AND DIRECT CHARITABLE CONTRIBUTIONS TO HELP THOSE LESS FORTUNATE THAN OURSELVES.   \n",
       "3                                                                                                                                                                                                           \n",
       "4                                                                                                                                                                                                           \n",
       "\n",
       "                                                                                                                                                                                                                                                                    DescriptionProgramSrvcAccomTxt  \n",
       "0  TO IMPROVE THE QUALITY OF LIFE IN SOUTH BARRY COUNTY BY ELIMATING SUB-STANDARD HOUSING                                                                                                                                                                                                           \n",
       "1                                                                                                                                                                                                                                                                                                   \n",
       "2  THE ROTARY CLUB OF INDEPENDENCE USED REVENUE FROM MEMBER DUES, MEALS, AND SPECIAL EVENTS TO FUND CHARITABLE CONTRIBUTIONS AND SERVICE PROJECTS INCLUDING CONTRIBUTIONS TO ROTARY INTERNATIONAL, INDEPENDENCE SCHOOL DISTRICT AND JOB ONE EMPLOYMENT OPPORTUNITIES FOR PEOPLE WITH DISABILITIES.  \n",
       "3                                                                                                                                                                                                                                                                                                   \n",
       "4                                                                                                                                                                                                                                                                                                   "
      ]
     },
     "execution_count": 86,
     "metadata": {},
     "output_type": "execute_result"
    }
   ],
   "source": [
    "df_columns_na.head()"
   ]
  },
  {
   "cell_type": "code",
   "execution_count": 94,
   "metadata": {},
   "outputs": [],
   "source": [
    "df_columns_website_nn  = df_columns_na[df_columns_na['website'] != \"\"]"
   ]
  },
  {
   "cell_type": "code",
   "execution_count": 107,
   "metadata": {},
   "outputs": [
    {
     "data": {
      "text/plain": [
       "EIN                               1383\n",
       "NAME                              1383\n",
       "STREET                            1383\n",
       "CITY                              1383\n",
       "ZIP                               1383\n",
       "ACTIVITY                          1383\n",
       "NTEE_CD                           1072\n",
       "URL                               1383\n",
       "phone                             1383\n",
       "website                           1383\n",
       "primary_except                    1383\n",
       "DescriptionProgramSrvcAccomTxt    1383\n",
       "dtype: int64"
      ]
     },
     "execution_count": 107,
     "metadata": {},
     "output_type": "execute_result"
    }
   ],
   "source": [
    "df_columns_website_nn.count()"
   ]
  },
  {
   "cell_type": "code",
   "execution_count": 108,
   "metadata": {},
   "outputs": [
    {
     "data": {
      "text/html": [
       "<div>\n",
       "<style scoped>\n",
       "    .dataframe tbody tr th:only-of-type {\n",
       "        vertical-align: middle;\n",
       "    }\n",
       "\n",
       "    .dataframe tbody tr th {\n",
       "        vertical-align: top;\n",
       "    }\n",
       "\n",
       "    .dataframe thead th {\n",
       "        text-align: right;\n",
       "    }\n",
       "</style>\n",
       "<table border=\"1\" class=\"dataframe\">\n",
       "  <thead>\n",
       "    <tr style=\"text-align: right;\">\n",
       "      <th></th>\n",
       "      <th>EIN</th>\n",
       "      <th>NAME</th>\n",
       "      <th>STREET</th>\n",
       "      <th>CITY</th>\n",
       "      <th>ZIP</th>\n",
       "      <th>ACTIVITY</th>\n",
       "      <th>NTEE_CD</th>\n",
       "      <th>URL</th>\n",
       "      <th>phone</th>\n",
       "      <th>website</th>\n",
       "      <th>primary_except</th>\n",
       "      <th>DescriptionProgramSrvcAccomTxt</th>\n",
       "    </tr>\n",
       "  </thead>\n",
       "  <tbody>\n",
       "    <tr>\n",
       "      <th>2</th>\n",
       "      <td>20731227</td>\n",
       "      <td>ROTARY INTERNATIONAL</td>\n",
       "      <td>3200 S STATE ROUTE 291</td>\n",
       "      <td>INDEPENDENCE</td>\n",
       "      <td>64057-1702</td>\n",
       "      <td>520349200</td>\n",
       "      <td>NaN</td>\n",
       "      <td>https://s3.amazonaws.com/irs-form-990/201811309349202611_public.xml</td>\n",
       "      <td>8168330078</td>\n",
       "      <td>EASTERNINDEPENDENCEROTARY.ORG</td>\n",
       "      <td>ROTARY IS A SERVICE ORGANIZATION WHOSE MEMBERS WORK LOCALLY, REGIONALLY, AND INTERNATIONALLY THROUGH SERVICE PROJECTS AND DIRECT CHARITABLE CONTRIBUTIONS TO HELP THOSE LESS FORTUNATE THAN OURSELVES.</td>\n",
       "      <td>THE ROTARY CLUB OF INDEPENDENCE USED REVENUE FROM MEMBER DUES, MEALS, AND SPECIAL EVENTS TO FUND CHARITABLE CONTRIBUTIONS AND SERVICE PROJECTS INCLUDING CONTRIBUTIONS TO ROTARY INTERNATIONAL, INDEPENDENCE SCHOOL DISTRICT AND JOB ONE EMPLOYMENT OPPORTUNITIES FOR PEOPLE WITH DISABILITIES.</td>\n",
       "    </tr>\n",
       "    <tr>\n",
       "      <th>3</th>\n",
       "      <td>131995940</td>\n",
       "      <td>LUDHIANA CHRISTIAN MEDICAL COLLEGE BOARD U S A INC</td>\n",
       "      <td>PO BOX 1327</td>\n",
       "      <td>COLUMBIA</td>\n",
       "      <td>65205-1327</td>\n",
       "      <td>179029000</td>\n",
       "      <td>Q113</td>\n",
       "      <td>https://s3.amazonaws.com/irs-form-990/201822849349300532_public.xml</td>\n",
       "      <td>5737772924</td>\n",
       "      <td>HTTP://FOLUS.ORG</td>\n",
       "      <td></td>\n",
       "      <td></td>\n",
       "    </tr>\n",
       "    <tr>\n",
       "      <th>4</th>\n",
       "      <td>133352209</td>\n",
       "      <td>INTERNATIONAL PEDIATRIC NEPHROLOGY ASSOCIATION HOSPITAL</td>\n",
       "      <td>2401 GILLHAM RD</td>\n",
       "      <td>KANSAS CITY</td>\n",
       "      <td>64108-4619</td>\n",
       "      <td>161179000</td>\n",
       "      <td>NaN</td>\n",
       "      <td>https://s3.amazonaws.com/irs-form-990/201823189349312167_public.xml</td>\n",
       "      <td>8162343812</td>\n",
       "      <td>IPNA-ONLINE.ORG</td>\n",
       "      <td></td>\n",
       "      <td></td>\n",
       "    </tr>\n",
       "    <tr>\n",
       "      <th>5</th>\n",
       "      <td>161608735</td>\n",
       "      <td>OUR LADY OF PEACE INC</td>\n",
       "      <td>12250 WEBER HILL RD STE 200</td>\n",
       "      <td>SAINT LOUIS</td>\n",
       "      <td>63127-1552</td>\n",
       "      <td>31150120</td>\n",
       "      <td>NaN</td>\n",
       "      <td>https://s3.amazonaws.com/irs-form-990/201723199349314777_public.xml</td>\n",
       "      <td>7162982900</td>\n",
       "      <td>www.ladyofpeace.org</td>\n",
       "      <td></td>\n",
       "      <td></td>\n",
       "    </tr>\n",
       "    <tr>\n",
       "      <th>6</th>\n",
       "      <td>200901499</td>\n",
       "      <td>MERCY HEALTH FOUNDATION</td>\n",
       "      <td>14528 SOUTH OUTER 40 RD STE 100</td>\n",
       "      <td>CHESTERFIELD</td>\n",
       "      <td>63017-5743</td>\n",
       "      <td>31150120</td>\n",
       "      <td>NaN</td>\n",
       "      <td>https://s3.amazonaws.com/irs-form-990/201801359349311630_public.xml</td>\n",
       "      <td>3145796100</td>\n",
       "      <td>www.mercy.net</td>\n",
       "      <td></td>\n",
       "      <td></td>\n",
       "    </tr>\n",
       "  </tbody>\n",
       "</table>\n",
       "</div>"
      ],
      "text/plain": [
       "         EIN                                                     NAME  \\\n",
       "2  20731227   ROTARY INTERNATIONAL                                      \n",
       "3  131995940  LUDHIANA CHRISTIAN MEDICAL COLLEGE BOARD U S A INC        \n",
       "4  133352209  INTERNATIONAL PEDIATRIC NEPHROLOGY ASSOCIATION HOSPITAL   \n",
       "5  161608735  OUR LADY OF PEACE INC                                     \n",
       "6  200901499  MERCY HEALTH FOUNDATION                                   \n",
       "\n",
       "                            STREET          CITY         ZIP   ACTIVITY  \\\n",
       "2  3200 S STATE ROUTE 291           INDEPENDENCE  64057-1702  520349200   \n",
       "3  PO BOX 1327                      COLUMBIA      65205-1327  179029000   \n",
       "4  2401 GILLHAM RD                  KANSAS CITY   64108-4619  161179000   \n",
       "5  12250 WEBER HILL RD STE 200      SAINT LOUIS   63127-1552  31150120    \n",
       "6  14528 SOUTH OUTER 40 RD STE 100  CHESTERFIELD  63017-5743  31150120    \n",
       "\n",
       "  NTEE_CD  \\\n",
       "2  NaN      \n",
       "3  Q113     \n",
       "4  NaN      \n",
       "5  NaN      \n",
       "6  NaN      \n",
       "\n",
       "                                                                   URL  \\\n",
       "2  https://s3.amazonaws.com/irs-form-990/201811309349202611_public.xml   \n",
       "3  https://s3.amazonaws.com/irs-form-990/201822849349300532_public.xml   \n",
       "4  https://s3.amazonaws.com/irs-form-990/201823189349312167_public.xml   \n",
       "5  https://s3.amazonaws.com/irs-form-990/201723199349314777_public.xml   \n",
       "6  https://s3.amazonaws.com/irs-form-990/201801359349311630_public.xml   \n",
       "\n",
       "        phone                        website  \\\n",
       "2  8168330078  EASTERNINDEPENDENCEROTARY.ORG   \n",
       "3  5737772924  HTTP://FOLUS.ORG                \n",
       "4  8162343812  IPNA-ONLINE.ORG                 \n",
       "5  7162982900  www.ladyofpeace.org             \n",
       "6  3145796100  www.mercy.net                   \n",
       "\n",
       "                                                                                                                                                                                           primary_except  \\\n",
       "2  ROTARY IS A SERVICE ORGANIZATION WHOSE MEMBERS WORK LOCALLY, REGIONALLY, AND INTERNATIONALLY THROUGH SERVICE PROJECTS AND DIRECT CHARITABLE CONTRIBUTIONS TO HELP THOSE LESS FORTUNATE THAN OURSELVES.   \n",
       "3                                                                                                                                                                                                           \n",
       "4                                                                                                                                                                                                           \n",
       "5                                                                                                                                                                                                           \n",
       "6                                                                                                                                                                                                           \n",
       "\n",
       "                                                                                                                                                                                                                                                                    DescriptionProgramSrvcAccomTxt  \n",
       "2  THE ROTARY CLUB OF INDEPENDENCE USED REVENUE FROM MEMBER DUES, MEALS, AND SPECIAL EVENTS TO FUND CHARITABLE CONTRIBUTIONS AND SERVICE PROJECTS INCLUDING CONTRIBUTIONS TO ROTARY INTERNATIONAL, INDEPENDENCE SCHOOL DISTRICT AND JOB ONE EMPLOYMENT OPPORTUNITIES FOR PEOPLE WITH DISABILITIES.  \n",
       "3                                                                                                                                                                                                                                                                                                   \n",
       "4                                                                                                                                                                                                                                                                                                   \n",
       "5                                                                                                                                                                                                                                                                                                   \n",
       "6                                                                                                                                                                                                                                                                                                   "
      ]
     },
     "execution_count": 108,
     "metadata": {},
     "output_type": "execute_result"
    }
   ],
   "source": [
    "df_columns_website_nn.head()"
   ]
  },
  {
   "cell_type": "code",
   "execution_count": 127,
   "metadata": {},
   "outputs": [],
   "source": [
    "df_columns_website_nn_filter = df_columns_website_nn[['EIN', 'NAME', 'website', 'phone', 'NTEE_CD']]"
   ]
  },
  {
   "cell_type": "code",
   "execution_count": 128,
   "metadata": {},
   "outputs": [
    {
     "name": "stderr",
     "output_type": "stream",
     "text": [
      "/anaconda3/lib/python3.7/site-packages/ipykernel_launcher.py:1: SettingWithCopyWarning: \n",
      "A value is trying to be set on a copy of a slice from a DataFrame.\n",
      "Try using .loc[row_indexer,col_indexer] = value instead\n",
      "\n",
      "See the caveats in the documentation: http://pandas.pydata.org/pandas-docs/stable/indexing.html#indexing-view-versus-copy\n",
      "  \"\"\"Entry point for launching an IPython kernel.\n"
     ]
    }
   ],
   "source": [
    "df_columns_website_nn_filter['EIN'] = df_columns_website_nn_filter['EIN'].astype(str).str.zfill(9)"
   ]
  },
  {
   "cell_type": "code",
   "execution_count": 129,
   "metadata": {},
   "outputs": [],
   "source": [
    "df_columns_website_nn_filter_rename = df_columns_website_nn_filter.rename(\n",
    "    columns={'EIN': 'EIN', 'NAME': 'name', 'website': 'url', 'phone': 'phone','NTEE_CD': 'services' })"
   ]
  },
  {
   "cell_type": "code",
   "execution_count": 130,
   "metadata": {},
   "outputs": [
    {
     "data": {
      "text/plain": [
       "EIN         object\n",
       "name        object\n",
       "url         object\n",
       "phone       object\n",
       "services    object\n",
       "dtype: object"
      ]
     },
     "execution_count": 130,
     "metadata": {},
     "output_type": "execute_result"
    }
   ],
   "source": [
    "df_columns_website_nn_filter_rename.dtypes"
   ]
  },
  {
   "cell_type": "code",
   "execution_count": 131,
   "metadata": {},
   "outputs": [
    {
     "data": {
      "text/plain": [
       "EIN         1383\n",
       "name        1383\n",
       "url         1383\n",
       "phone       1383\n",
       "services    1072\n",
       "dtype: int64"
      ]
     },
     "execution_count": 131,
     "metadata": {},
     "output_type": "execute_result"
    }
   ],
   "source": [
    "df_columns_website_nn_filter_rename.count()"
   ]
  },
  {
   "cell_type": "code",
   "execution_count": null,
   "metadata": {},
   "outputs": [],
   "source": [
    "df_columns_na_rename.reset_index(drop=True, inplace=True)"
   ]
  },
  {
   "cell_type": "code",
   "execution_count": 132,
   "metadata": {},
   "outputs": [
    {
     "data": {
      "text/plain": [
       "Index(['EIN', 'name', 'url', 'phone', 'services'], dtype='object')"
      ]
     },
     "execution_count": 132,
     "metadata": {},
     "output_type": "execute_result"
    }
   ],
   "source": [
    "df_columns_website_nn_filter_rename.columns"
   ]
  },
  {
   "cell_type": "code",
   "execution_count": null,
   "metadata": {},
   "outputs": [],
   "source": [
    "#df_columns_na_rename = df_columns_na_rename.loc[(df_columns['url'] != 'N/A')]"
   ]
  },
  {
   "cell_type": "code",
   "execution_count": 152,
   "metadata": {},
   "outputs": [
    {
     "data": {
      "text/html": [
       "<div>\n",
       "<style scoped>\n",
       "    .dataframe tbody tr th:only-of-type {\n",
       "        vertical-align: middle;\n",
       "    }\n",
       "\n",
       "    .dataframe tbody tr th {\n",
       "        vertical-align: top;\n",
       "    }\n",
       "\n",
       "    .dataframe thead th {\n",
       "        text-align: right;\n",
       "    }\n",
       "</style>\n",
       "<table border=\"1\" class=\"dataframe\">\n",
       "  <thead>\n",
       "    <tr style=\"text-align: right;\">\n",
       "      <th></th>\n",
       "      <th>EIN</th>\n",
       "      <th>name</th>\n",
       "      <th>url</th>\n",
       "      <th>phone</th>\n",
       "      <th>services</th>\n",
       "    </tr>\n",
       "  </thead>\n",
       "  <tbody>\n",
       "    <tr>\n",
       "      <th>2</th>\n",
       "      <td>020731227</td>\n",
       "      <td>ROTARY INTERNATIONAL</td>\n",
       "      <td>EASTERNINDEPENDENCEROTARY.ORG</td>\n",
       "      <td>8168330078</td>\n",
       "      <td>NaN</td>\n",
       "    </tr>\n",
       "    <tr>\n",
       "      <th>3</th>\n",
       "      <td>131995940</td>\n",
       "      <td>LUDHIANA CHRISTIAN MEDICAL COLLEGE BOARD U S A INC</td>\n",
       "      <td>HTTP://FOLUS.ORG</td>\n",
       "      <td>5737772924</td>\n",
       "      <td>Q113</td>\n",
       "    </tr>\n",
       "    <tr>\n",
       "      <th>4</th>\n",
       "      <td>133352209</td>\n",
       "      <td>INTERNATIONAL PEDIATRIC NEPHROLOGY ASSOCIATION HOSPITAL</td>\n",
       "      <td>IPNA-ONLINE.ORG</td>\n",
       "      <td>8162343812</td>\n",
       "      <td>NaN</td>\n",
       "    </tr>\n",
       "    <tr>\n",
       "      <th>5</th>\n",
       "      <td>161608735</td>\n",
       "      <td>OUR LADY OF PEACE INC</td>\n",
       "      <td>www.ladyofpeace.org</td>\n",
       "      <td>7162982900</td>\n",
       "      <td>NaN</td>\n",
       "    </tr>\n",
       "    <tr>\n",
       "      <th>6</th>\n",
       "      <td>200901499</td>\n",
       "      <td>MERCY HEALTH FOUNDATION</td>\n",
       "      <td>www.mercy.net</td>\n",
       "      <td>3145796100</td>\n",
       "      <td>NaN</td>\n",
       "    </tr>\n",
       "  </tbody>\n",
       "</table>\n",
       "</div>"
      ],
      "text/plain": [
       "         EIN                                                     name  \\\n",
       "2  020731227  ROTARY INTERNATIONAL                                      \n",
       "3  131995940  LUDHIANA CHRISTIAN MEDICAL COLLEGE BOARD U S A INC        \n",
       "4  133352209  INTERNATIONAL PEDIATRIC NEPHROLOGY ASSOCIATION HOSPITAL   \n",
       "5  161608735  OUR LADY OF PEACE INC                                     \n",
       "6  200901499  MERCY HEALTH FOUNDATION                                   \n",
       "\n",
       "                             url       phone services  \n",
       "2  EASTERNINDEPENDENCEROTARY.ORG  8168330078  NaN      \n",
       "3  HTTP://FOLUS.ORG               5737772924  Q113     \n",
       "4  IPNA-ONLINE.ORG                8162343812  NaN      \n",
       "5  www.ladyofpeace.org            7162982900  NaN      \n",
       "6  www.mercy.net                  3145796100  NaN      "
      ]
     },
     "execution_count": 152,
     "metadata": {},
     "output_type": "execute_result"
    }
   ],
   "source": [
    "df_columns_website_nn_filter_rename.head()"
   ]
  },
  {
   "cell_type": "code",
   "execution_count": 148,
   "metadata": {},
   "outputs": [],
   "source": [
    "df_columns_website_nn_filter_rename_lower['url_lower'] = df_columns_website_nn_filter_rename['url'].str.lower()\n",
    "    #s.str.lower() df['x'].str.lower()data[\"First Name\"]= data[\"First Name\"].str.lower()df.url.str.lower()"
   ]
  },
  {
   "cell_type": "code",
   "execution_count": 155,
   "metadata": {},
   "outputs": [],
   "source": [
    "df_columns_website_nn_filter_rename['url'] = df_columns_website_nn_filter_rename.url.str.lower()"
   ]
  },
  {
   "cell_type": "code",
   "execution_count": 156,
   "metadata": {},
   "outputs": [
    {
     "data": {
      "text/html": [
       "<div>\n",
       "<style scoped>\n",
       "    .dataframe tbody tr th:only-of-type {\n",
       "        vertical-align: middle;\n",
       "    }\n",
       "\n",
       "    .dataframe tbody tr th {\n",
       "        vertical-align: top;\n",
       "    }\n",
       "\n",
       "    .dataframe thead th {\n",
       "        text-align: right;\n",
       "    }\n",
       "</style>\n",
       "<table border=\"1\" class=\"dataframe\">\n",
       "  <thead>\n",
       "    <tr style=\"text-align: right;\">\n",
       "      <th></th>\n",
       "      <th>EIN</th>\n",
       "      <th>name</th>\n",
       "      <th>url</th>\n",
       "      <th>phone</th>\n",
       "      <th>services</th>\n",
       "    </tr>\n",
       "  </thead>\n",
       "  <tbody>\n",
       "    <tr>\n",
       "      <th>2</th>\n",
       "      <td>020731227</td>\n",
       "      <td>ROTARY INTERNATIONAL</td>\n",
       "      <td>easternindependencerotary.org</td>\n",
       "      <td>8168330078</td>\n",
       "      <td>NaN</td>\n",
       "    </tr>\n",
       "    <tr>\n",
       "      <th>3</th>\n",
       "      <td>131995940</td>\n",
       "      <td>LUDHIANA CHRISTIAN MEDICAL COLLEGE BOARD U S A INC</td>\n",
       "      <td>http://folus.org</td>\n",
       "      <td>5737772924</td>\n",
       "      <td>Q113</td>\n",
       "    </tr>\n",
       "    <tr>\n",
       "      <th>4</th>\n",
       "      <td>133352209</td>\n",
       "      <td>INTERNATIONAL PEDIATRIC NEPHROLOGY ASSOCIATION HOSPITAL</td>\n",
       "      <td>ipna-online.org</td>\n",
       "      <td>8162343812</td>\n",
       "      <td>NaN</td>\n",
       "    </tr>\n",
       "    <tr>\n",
       "      <th>5</th>\n",
       "      <td>161608735</td>\n",
       "      <td>OUR LADY OF PEACE INC</td>\n",
       "      <td>www.ladyofpeace.org</td>\n",
       "      <td>7162982900</td>\n",
       "      <td>NaN</td>\n",
       "    </tr>\n",
       "    <tr>\n",
       "      <th>6</th>\n",
       "      <td>200901499</td>\n",
       "      <td>MERCY HEALTH FOUNDATION</td>\n",
       "      <td>www.mercy.net</td>\n",
       "      <td>3145796100</td>\n",
       "      <td>NaN</td>\n",
       "    </tr>\n",
       "  </tbody>\n",
       "</table>\n",
       "</div>"
      ],
      "text/plain": [
       "         EIN                                                     name  \\\n",
       "2  020731227  ROTARY INTERNATIONAL                                      \n",
       "3  131995940  LUDHIANA CHRISTIAN MEDICAL COLLEGE BOARD U S A INC        \n",
       "4  133352209  INTERNATIONAL PEDIATRIC NEPHROLOGY ASSOCIATION HOSPITAL   \n",
       "5  161608735  OUR LADY OF PEACE INC                                     \n",
       "6  200901499  MERCY HEALTH FOUNDATION                                   \n",
       "\n",
       "                             url       phone services  \n",
       "2  easternindependencerotary.org  8168330078  NaN      \n",
       "3  http://folus.org               5737772924  Q113     \n",
       "4  ipna-online.org                8162343812  NaN      \n",
       "5  www.ladyofpeace.org            7162982900  NaN      \n",
       "6  www.mercy.net                  3145796100  NaN      "
      ]
     },
     "execution_count": 156,
     "metadata": {},
     "output_type": "execute_result"
    }
   ],
   "source": [
    "df_columns_website_nn_filter_rename.head()"
   ]
  },
  {
   "cell_type": "code",
   "execution_count": 157,
   "metadata": {},
   "outputs": [],
   "source": [
    "df_columns_website_nn_filter_rename.to_csv('final_submission.csv')"
   ]
  },
  {
   "cell_type": "code",
   "execution_count": 158,
   "metadata": {},
   "outputs": [],
   "source": [
    "df_columns_website_nn_filter_rename.to_json('final_submission.json', orient = \"records\")"
   ]
  },
  {
   "cell_type": "code",
   "execution_count": 159,
   "metadata": {},
   "outputs": [
    {
     "data": {
      "text/plain": [
       "EIN         1383\n",
       "name        1383\n",
       "url         1383\n",
       "phone       1383\n",
       "services    1072\n",
       "dtype: int64"
      ]
     },
     "execution_count": 159,
     "metadata": {},
     "output_type": "execute_result"
    }
   ],
   "source": [
    "df_columns_website_nn_filter_rename.count()"
   ]
  },
  {
   "cell_type": "code",
   "execution_count": null,
   "metadata": {},
   "outputs": [],
   "source": []
  }
 ],
 "metadata": {
  "kernelspec": {
   "display_name": "Python 3",
   "language": "python",
   "name": "python3"
  },
  "language_info": {
   "codemirror_mode": {
    "name": "ipython",
    "version": 3
   },
   "file_extension": ".py",
   "mimetype": "text/x-python",
   "name": "python",
   "nbconvert_exporter": "python",
   "pygments_lexer": "ipython3",
   "version": "3.7.3"
  }
 },
 "nbformat": 4,
 "nbformat_minor": 2
}
